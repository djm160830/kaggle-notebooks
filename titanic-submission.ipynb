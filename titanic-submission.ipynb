{
 "cells": [
  {
   "cell_type": "code",
   "execution_count": 1,
   "id": "00e874de",
   "metadata": {
    "execution": {
     "iopub.execute_input": "2022-03-04T04:39:14.265366Z",
     "iopub.status.busy": "2022-03-04T04:39:14.264637Z",
     "iopub.status.idle": "2022-03-04T04:39:15.640558Z",
     "shell.execute_reply": "2022-03-04T04:39:15.641286Z",
     "shell.execute_reply.started": "2022-03-04T04:33:03.713505Z"
    },
    "papermill": {
     "duration": 1.402504,
     "end_time": "2022-03-04T04:39:15.641636",
     "exception": false,
     "start_time": "2022-03-04T04:39:14.239132",
     "status": "completed"
    },
    "tags": []
   },
   "outputs": [
    {
     "data": {
      "text/plain": [
       "Index(['PassengerId', 'Survived', 'Pclass', 'Name', 'Sex', 'Age', 'SibSp',\n",
       "       'Parch', 'Ticket', 'Fare', 'Cabin', 'Embarked'],\n",
       "      dtype='object')"
      ]
     },
     "execution_count": 1,
     "metadata": {},
     "output_type": "execute_result"
    }
   ],
   "source": [
    "import numpy as np\n",
    "import pandas as pd\n",
    "import seaborn as sns\n",
    "\n",
    "# EDA\n",
    "train = pd.read_csv(\"/kaggle/input/titanic/train.csv\")\n",
    "#train.head\n",
    "train.info\n",
    "# train.shape\n",
    "# train.isnull().sum()\n",
    "# train['Embarked'].value_counts()\n",
    "train.columns"
   ]
  },
  {
   "cell_type": "code",
   "execution_count": 2,
   "id": "22b981a8",
   "metadata": {
    "execution": {
     "iopub.execute_input": "2022-03-04T04:39:15.693741Z",
     "iopub.status.busy": "2022-03-04T04:39:15.680707Z",
     "iopub.status.idle": "2022-03-04T04:39:15.698071Z",
     "shell.execute_reply": "2022-03-04T04:39:15.697352Z",
     "shell.execute_reply.started": "2022-03-04T04:33:03.735893Z"
    },
    "papermill": {
     "duration": 0.038348,
     "end_time": "2022-03-04T04:39:15.698235",
     "exception": false,
     "start_time": "2022-03-04T04:39:15.659887",
     "status": "completed"
    },
    "tags": []
   },
   "outputs": [
    {
     "data": {
      "text/plain": [
       "0    549\n",
       "1    342\n",
       "Name: Survived, dtype: int64"
      ]
     },
     "execution_count": 2,
     "metadata": {},
     "output_type": "execute_result"
    }
   ],
   "source": [
    "train['Survived'].value_counts()"
   ]
  },
  {
   "cell_type": "markdown",
   "id": "3681397e",
   "metadata": {
    "papermill": {
     "duration": 0.014169,
     "end_time": "2022-03-04T04:39:15.727297",
     "exception": false,
     "start_time": "2022-03-04T04:39:15.713128",
     "status": "completed"
    },
    "tags": []
   },
   "source": [
    "549 passengers died, and 342 passengers survived. Of those survivng passengers, what characteristics did they have that may have contributed to their survival? "
   ]
  },
  {
   "cell_type": "code",
   "execution_count": 3,
   "id": "956d89eb",
   "metadata": {
    "execution": {
     "iopub.execute_input": "2022-03-04T04:39:15.761090Z",
     "iopub.status.busy": "2022-03-04T04:39:15.759881Z",
     "iopub.status.idle": "2022-03-04T04:39:15.770577Z",
     "shell.execute_reply": "2022-03-04T04:39:15.771246Z",
     "shell.execute_reply.started": "2022-03-04T04:33:03.748634Z"
    },
    "papermill": {
     "duration": 0.029734,
     "end_time": "2022-03-04T04:39:15.771460",
     "exception": false,
     "start_time": "2022-03-04T04:39:15.741726",
     "status": "completed"
    },
    "tags": []
   },
   "outputs": [
    {
     "data": {
      "text/plain": [
       "male      0.647587\n",
       "female    0.352413\n",
       "Name: Sex, dtype: float64"
      ]
     },
     "execution_count": 3,
     "metadata": {},
     "output_type": "execute_result"
    }
   ],
   "source": [
    "train['Sex'].value_counts(normalize=True)"
   ]
  },
  {
   "cell_type": "markdown",
   "id": "569c2eb1",
   "metadata": {
    "papermill": {
     "duration": 0.014632,
     "end_time": "2022-03-04T04:39:15.803937",
     "exception": false,
     "start_time": "2022-03-04T04:39:15.789305",
     "status": "completed"
    },
    "tags": []
   },
   "source": [
    "64% of the passengers are male, and 35% of the passengers are female. Because there are more male passengers, it can be mistakenly concluded that being male came with a higher chance of surviving/not surviving. We wouldn't necessarily know if the same could be said for female passengers, as there isn't an equal amount of them and therefore their results to compare to males, and vice-versa."
   ]
  },
  {
   "cell_type": "code",
   "execution_count": 4,
   "id": "90291c4b",
   "metadata": {
    "execution": {
     "iopub.execute_input": "2022-03-04T04:39:15.838728Z",
     "iopub.status.busy": "2022-03-04T04:39:15.837469Z",
     "iopub.status.idle": "2022-03-04T04:39:15.864198Z",
     "shell.execute_reply": "2022-03-04T04:39:15.864803Z",
     "shell.execute_reply.started": "2022-03-04T04:33:03.763682Z"
    },
    "papermill": {
     "duration": 0.046155,
     "end_time": "2022-03-04T04:39:15.865005",
     "exception": false,
     "start_time": "2022-03-04T04:39:15.818850",
     "status": "completed"
    },
    "tags": []
   },
   "outputs": [
    {
     "name": "stdout",
     "output_type": "stream",
     "text": [
      "                 fates\n",
      "Sex    Survived       \n",
      "female 0            81\n",
      "       1           233\n",
      "male   0           468\n",
      "       1           109\n"
     ]
    }
   ],
   "source": [
    "my_agg=(train\n",
    " .groupby(['Sex','Survived'])\n",
    " .agg(\n",
    "     fates=pd.NamedAgg('Survived', 'count')))\n",
    "print(my_agg)"
   ]
  },
  {
   "cell_type": "markdown",
   "id": "d6566eff",
   "metadata": {
    "papermill": {
     "duration": 0.015139,
     "end_time": "2022-03-04T04:39:15.895610",
     "exception": false,
     "start_time": "2022-03-04T04:39:15.880471",
     "status": "completed"
    },
    "tags": []
   },
   "source": [
    "More females survived than died, and more males died than survived. What other factors might have played into this?"
   ]
  },
  {
   "cell_type": "code",
   "execution_count": 5,
   "id": "dcd4755f",
   "metadata": {
    "execution": {
     "iopub.execute_input": "2022-03-04T04:39:15.935199Z",
     "iopub.status.busy": "2022-03-04T04:39:15.934008Z",
     "iopub.status.idle": "2022-03-04T04:39:15.943997Z",
     "shell.execute_reply": "2022-03-04T04:39:15.944773Z",
     "shell.execute_reply.started": "2022-03-04T04:33:03.780049Z"
    },
    "papermill": {
     "duration": 0.034189,
     "end_time": "2022-03-04T04:39:15.944988",
     "exception": false,
     "start_time": "2022-03-04T04:39:15.910799",
     "status": "completed"
    },
    "tags": []
   },
   "outputs": [
    {
     "data": {
      "text/plain": [
       "count    714.000000\n",
       "mean      29.699118\n",
       "std       14.526497\n",
       "min        0.420000\n",
       "25%       20.125000\n",
       "50%       28.000000\n",
       "75%       38.000000\n",
       "max       80.000000\n",
       "Name: Age, dtype: float64"
      ]
     },
     "execution_count": 5,
     "metadata": {},
     "output_type": "execute_result"
    }
   ],
   "source": [
    "train['Age'].describe()"
   ]
  },
  {
   "cell_type": "code",
   "execution_count": 6,
   "id": "a78f9768",
   "metadata": {
    "execution": {
     "iopub.execute_input": "2022-03-04T04:39:15.981206Z",
     "iopub.status.busy": "2022-03-04T04:39:15.980008Z",
     "iopub.status.idle": "2022-03-04T04:39:15.998791Z",
     "shell.execute_reply": "2022-03-04T04:39:15.998015Z",
     "shell.execute_reply.started": "2022-03-04T04:33:03.800419Z"
    },
    "papermill": {
     "duration": 0.03847,
     "end_time": "2022-03-04T04:39:15.998976",
     "exception": false,
     "start_time": "2022-03-04T04:39:15.960506",
     "status": "completed"
    },
    "tags": []
   },
   "outputs": [],
   "source": [
    "class Quantile:\n",
    "    def __init__(self, q):\n",
    "        self.q=q\n",
    "    def __call__(self, x):\n",
    "        return x.quantile(self.q)\n",
    "    \n",
    "\n",
    "df=train.groupby(['Sex', 'Survived', 'Age'], as_index=False)\\\n",
    "        .agg(\n",
    "            cnt=('Age', 'count'))"
   ]
  },
  {
   "cell_type": "code",
   "execution_count": 7,
   "id": "1dfaa75c",
   "metadata": {
    "execution": {
     "iopub.execute_input": "2022-03-04T04:39:16.039508Z",
     "iopub.status.busy": "2022-03-04T04:39:16.038687Z",
     "iopub.status.idle": "2022-03-04T04:39:16.066485Z",
     "shell.execute_reply": "2022-03-04T04:39:16.065337Z",
     "shell.execute_reply.started": "2022-03-04T04:33:03.819276Z"
    },
    "papermill": {
     "duration": 0.051892,
     "end_time": "2022-03-04T04:39:16.066729",
     "exception": false,
     "start_time": "2022-03-04T04:39:16.014837",
     "status": "completed"
    },
    "tags": []
   },
   "outputs": [
    {
     "data": {
      "text/html": [
       "<div>\n",
       "<style scoped>\n",
       "    .dataframe tbody tr th:only-of-type {\n",
       "        vertical-align: middle;\n",
       "    }\n",
       "\n",
       "    .dataframe tbody tr th {\n",
       "        vertical-align: top;\n",
       "    }\n",
       "\n",
       "    .dataframe thead th {\n",
       "        text-align: right;\n",
       "    }\n",
       "</style>\n",
       "<table border=\"1\" class=\"dataframe\">\n",
       "  <thead>\n",
       "    <tr style=\"text-align: right;\">\n",
       "      <th></th>\n",
       "      <th></th>\n",
       "      <th>under21</th>\n",
       "    </tr>\n",
       "    <tr>\n",
       "      <th>Sex</th>\n",
       "      <th>Survived</th>\n",
       "      <th></th>\n",
       "    </tr>\n",
       "  </thead>\n",
       "  <tbody>\n",
       "    <tr>\n",
       "      <th rowspan=\"2\" valign=\"top\">female</th>\n",
       "      <th>0</th>\n",
       "      <td>24</td>\n",
       "    </tr>\n",
       "    <tr>\n",
       "      <th>1</th>\n",
       "      <td>53</td>\n",
       "    </tr>\n",
       "    <tr>\n",
       "      <th rowspan=\"2\" valign=\"top\">male</th>\n",
       "      <th>0</th>\n",
       "      <td>73</td>\n",
       "    </tr>\n",
       "    <tr>\n",
       "      <th>1</th>\n",
       "      <td>29</td>\n",
       "    </tr>\n",
       "  </tbody>\n",
       "</table>\n",
       "</div>"
      ],
      "text/plain": [
       "                 under21\n",
       "Sex    Survived         \n",
       "female 0              24\n",
       "       1              53\n",
       "male   0              73\n",
       "       1              29"
      ]
     },
     "execution_count": 7,
     "metadata": {},
     "output_type": "execute_result"
    }
   ],
   "source": [
    "train.where(train.Age <= 20)\\\n",
    "    .groupby([train.Sex,train.Survived])\\\n",
    "    .agg(\n",
    "        under21=pd.NamedAgg('Survived', 'count'))"
   ]
  },
  {
   "cell_type": "code",
   "execution_count": 8,
   "id": "332cdb5d",
   "metadata": {
    "execution": {
     "iopub.execute_input": "2022-03-04T04:39:16.115954Z",
     "iopub.status.busy": "2022-03-04T04:39:16.114718Z",
     "iopub.status.idle": "2022-03-04T04:39:16.135106Z",
     "shell.execute_reply": "2022-03-04T04:39:16.135666Z",
     "shell.execute_reply.started": "2022-03-04T04:33:03.855761Z"
    },
    "papermill": {
     "duration": 0.05165,
     "end_time": "2022-03-04T04:39:16.135868",
     "exception": false,
     "start_time": "2022-03-04T04:39:16.084218",
     "status": "completed"
    },
    "tags": []
   },
   "outputs": [
    {
     "data": {
      "text/html": [
       "<div>\n",
       "<style scoped>\n",
       "    .dataframe tbody tr th:only-of-type {\n",
       "        vertical-align: middle;\n",
       "    }\n",
       "\n",
       "    .dataframe tbody tr th {\n",
       "        vertical-align: top;\n",
       "    }\n",
       "\n",
       "    .dataframe thead th {\n",
       "        text-align: right;\n",
       "    }\n",
       "</style>\n",
       "<table border=\"1\" class=\"dataframe\">\n",
       "  <thead>\n",
       "    <tr style=\"text-align: right;\">\n",
       "      <th></th>\n",
       "      <th>Age</th>\n",
       "      <th>0-20</th>\n",
       "      <th>21-28</th>\n",
       "      <th>29-38</th>\n",
       "      <th>38-80</th>\n",
       "    </tr>\n",
       "    <tr>\n",
       "      <th>Sex</th>\n",
       "      <th>Survived</th>\n",
       "      <th></th>\n",
       "      <th></th>\n",
       "      <th></th>\n",
       "      <th></th>\n",
       "    </tr>\n",
       "  </thead>\n",
       "  <tbody>\n",
       "    <tr>\n",
       "      <th rowspan=\"2\" valign=\"top\">female</th>\n",
       "      <th>0</th>\n",
       "      <td>24</td>\n",
       "      <td>16</td>\n",
       "      <td>10</td>\n",
       "      <td>14</td>\n",
       "    </tr>\n",
       "    <tr>\n",
       "      <th>1</th>\n",
       "      <td>53</td>\n",
       "      <td>47</td>\n",
       "      <td>51</td>\n",
       "      <td>46</td>\n",
       "    </tr>\n",
       "    <tr>\n",
       "      <th rowspan=\"2\" valign=\"top\">male</th>\n",
       "      <th>0</th>\n",
       "      <td>73</td>\n",
       "      <td>101</td>\n",
       "      <td>89</td>\n",
       "      <td>97</td>\n",
       "    </tr>\n",
       "    <tr>\n",
       "      <th>1</th>\n",
       "      <td>28</td>\n",
       "      <td>19</td>\n",
       "      <td>25</td>\n",
       "      <td>20</td>\n",
       "    </tr>\n",
       "  </tbody>\n",
       "</table>\n",
       "</div>"
      ],
      "text/plain": [
       "Age              0-20  21-28  29-38  38-80\n",
       "Sex    Survived                           \n",
       "female 0           24     16     10     14\n",
       "       1           53     47     51     46\n",
       "male   0           73    101     89     97\n",
       "       1           28     19     25     20"
      ]
     },
     "execution_count": 8,
     "metadata": {},
     "output_type": "execute_result"
    }
   ],
   "source": [
    "train.groupby(['Sex', \n",
    "               'Survived', \n",
    "               pd.cut(x=train['Age'],\n",
    "                      bins=train['Age'].quantile([0,.25,.5,.75,1]),\n",
    "                      labels=['0-20','21-28','29-38','38-80'])\n",
    "              ])\\\n",
    "      .size()\\\n",
    "      .unstack()"
   ]
  },
  {
   "cell_type": "code",
   "execution_count": 9,
   "id": "8b8787e8",
   "metadata": {
    "execution": {
     "iopub.execute_input": "2022-03-04T04:39:16.179067Z",
     "iopub.status.busy": "2022-03-04T04:39:16.177816Z",
     "iopub.status.idle": "2022-03-04T04:39:16.193451Z",
     "shell.execute_reply": "2022-03-04T04:39:16.194053Z",
     "shell.execute_reply.started": "2022-03-04T04:33:03.884858Z"
    },
    "papermill": {
     "duration": 0.041547,
     "end_time": "2022-03-04T04:39:16.194270",
     "exception": false,
     "start_time": "2022-03-04T04:39:16.152723",
     "status": "completed"
    },
    "tags": []
   },
   "outputs": [
    {
     "data": {
      "text/html": [
       "<div>\n",
       "<style scoped>\n",
       "    .dataframe tbody tr th:only-of-type {\n",
       "        vertical-align: middle;\n",
       "    }\n",
       "\n",
       "    .dataframe tbody tr th {\n",
       "        vertical-align: top;\n",
       "    }\n",
       "\n",
       "    .dataframe thead th {\n",
       "        text-align: right;\n",
       "    }\n",
       "</style>\n",
       "<table border=\"1\" class=\"dataframe\">\n",
       "  <thead>\n",
       "    <tr style=\"text-align: right;\">\n",
       "      <th></th>\n",
       "      <th>Sex</th>\n",
       "      <th>Survived</th>\n",
       "      <th>Age</th>\n",
       "      <th>cnt</th>\n",
       "    </tr>\n",
       "  </thead>\n",
       "  <tbody>\n",
       "    <tr>\n",
       "      <th>0</th>\n",
       "      <td>female</td>\n",
       "      <td>0</td>\n",
       "      <td>2.0</td>\n",
       "      <td>4</td>\n",
       "    </tr>\n",
       "    <tr>\n",
       "      <th>1</th>\n",
       "      <td>female</td>\n",
       "      <td>0</td>\n",
       "      <td>3.0</td>\n",
       "      <td>1</td>\n",
       "    </tr>\n",
       "    <tr>\n",
       "      <th>2</th>\n",
       "      <td>female</td>\n",
       "      <td>0</td>\n",
       "      <td>6.0</td>\n",
       "      <td>1</td>\n",
       "    </tr>\n",
       "    <tr>\n",
       "      <th>3</th>\n",
       "      <td>female</td>\n",
       "      <td>0</td>\n",
       "      <td>8.0</td>\n",
       "      <td>1</td>\n",
       "    </tr>\n",
       "    <tr>\n",
       "      <th>4</th>\n",
       "      <td>female</td>\n",
       "      <td>0</td>\n",
       "      <td>9.0</td>\n",
       "      <td>4</td>\n",
       "    </tr>\n",
       "    <tr>\n",
       "      <th>...</th>\n",
       "      <td>...</td>\n",
       "      <td>...</td>\n",
       "      <td>...</td>\n",
       "      <td>...</td>\n",
       "    </tr>\n",
       "    <tr>\n",
       "      <th>211</th>\n",
       "      <td>male</td>\n",
       "      <td>1</td>\n",
       "      <td>52.0</td>\n",
       "      <td>1</td>\n",
       "    </tr>\n",
       "    <tr>\n",
       "      <th>212</th>\n",
       "      <td>male</td>\n",
       "      <td>1</td>\n",
       "      <td>56.0</td>\n",
       "      <td>1</td>\n",
       "    </tr>\n",
       "    <tr>\n",
       "      <th>213</th>\n",
       "      <td>male</td>\n",
       "      <td>1</td>\n",
       "      <td>60.0</td>\n",
       "      <td>1</td>\n",
       "    </tr>\n",
       "    <tr>\n",
       "      <th>214</th>\n",
       "      <td>male</td>\n",
       "      <td>1</td>\n",
       "      <td>62.0</td>\n",
       "      <td>1</td>\n",
       "    </tr>\n",
       "    <tr>\n",
       "      <th>215</th>\n",
       "      <td>male</td>\n",
       "      <td>1</td>\n",
       "      <td>80.0</td>\n",
       "      <td>1</td>\n",
       "    </tr>\n",
       "  </tbody>\n",
       "</table>\n",
       "<p>216 rows × 4 columns</p>\n",
       "</div>"
      ],
      "text/plain": [
       "        Sex  Survived   Age  cnt\n",
       "0    female         0   2.0    4\n",
       "1    female         0   3.0    1\n",
       "2    female         0   6.0    1\n",
       "3    female         0   8.0    1\n",
       "4    female         0   9.0    4\n",
       "..      ...       ...   ...  ...\n",
       "211    male         1  52.0    1\n",
       "212    male         1  56.0    1\n",
       "213    male         1  60.0    1\n",
       "214    male         1  62.0    1\n",
       "215    male         1  80.0    1\n",
       "\n",
       "[216 rows x 4 columns]"
      ]
     },
     "execution_count": 9,
     "metadata": {},
     "output_type": "execute_result"
    }
   ],
   "source": [
    "# Visualizing using bar graph\n",
    "df"
   ]
  },
  {
   "cell_type": "code",
   "execution_count": 10,
   "id": "9b355aaf",
   "metadata": {
    "execution": {
     "iopub.execute_input": "2022-03-04T04:39:16.241295Z",
     "iopub.status.busy": "2022-03-04T04:39:16.239221Z",
     "iopub.status.idle": "2022-03-04T04:39:21.845244Z",
     "shell.execute_reply": "2022-03-04T04:39:21.845789Z",
     "shell.execute_reply.started": "2022-03-04T04:36:29.996803Z"
    },
    "papermill": {
     "duration": 5.634065,
     "end_time": "2022-03-04T04:39:21.845983",
     "exception": false,
     "start_time": "2022-03-04T04:39:16.211918",
     "status": "completed"
    },
    "tags": []
   },
   "outputs": [
    {
     "data": {
      "text/plain": [
       "<seaborn.axisgrid.FacetGrid at 0x7f85b816d490>"
      ]
     },
     "execution_count": 10,
     "metadata": {},
     "output_type": "execute_result"
    },
    {
     "data": {
      "image/png": "[encoded data removed]",
      "text/plain": [
       "<Figure size 771.875x360 with 2 Axes>"
      ]
     },
     "metadata": {
      "needs_background": "light"
     },
     "output_type": "display_data"
    }
   ],
   "source": [
    "fg = sns.catplot(x='Age', y='cnt', hue='Survived', col='Sex', data=df, kind='bar')\n",
    "fg.set_xlabels('')"
   ]
  }
 ],
 "metadata": {
  "kernelspec": {
   "display_name": "Python 3",
   "language": "python",
   "name": "python3"
  },
  "language_info": {
   "codemirror_mode": {
    "name": "ipython",
    "version": 3
   },
   "file_extension": ".py",
   "mimetype": "text/x-python",
   "name": "python",
   "nbconvert_exporter": "python",
   "pygments_lexer": "ipython3",
   "version": "3.7.12"
  },
  "papermill": {
   "default_parameters": {},
   "duration": 22.409134,
   "end_time": "2022-03-04T04:39:22.978716",
   "environment_variables": {},
   "exception": null,
   "input_path": "__notebook__.ipynb",
   "output_path": "__notebook__.ipynb",
   "parameters": {},
   "start_time": "2022-03-04T04:39:00.569582",
   "version": "2.3.3"
  }
 },
 "nbformat": 4,
 "nbformat_minor": 5
}
