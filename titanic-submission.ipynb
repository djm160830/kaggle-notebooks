{
 "cells": [
  {
   "cell_type": "code",
   "execution_count": 1,
   "id": "b6028f43",
   "metadata": {
    "execution": {
     "iopub.execute_input": "2022-03-02T03:36:41.305840Z",
     "iopub.status.busy": "2022-03-02T03:36:41.300639Z",
     "iopub.status.idle": "2022-03-02T03:36:41.328552Z",
     "shell.execute_reply": "2022-03-02T03:36:41.329089Z",
     "shell.execute_reply.started": "2022-03-02T02:46:12.380612Z"
    },
    "papermill": {
     "duration": 0.041434,
     "end_time": "2022-03-02T03:36:41.329375",
     "exception": false,
     "start_time": "2022-03-02T03:36:41.287941",
     "status": "completed"
    },
    "tags": []
   },
   "outputs": [
    {
     "data": {
      "text/plain": [
       "Index(['PassengerId', 'Survived', 'Pclass', 'Name', 'Sex', 'Age', 'SibSp',\n",
       "       'Parch', 'Ticket', 'Fare', 'Cabin', 'Embarked'],\n",
       "      dtype='object')"
      ]
     },
     "execution_count": 1,
     "metadata": {},
     "output_type": "execute_result"
    }
   ],
   "source": [
    "import numpy as np\n",
    "import pandas as pd\n",
    "\n",
    "# EDA\n",
    "train = pd.read_csv(\"/kaggle/input/titanic/train.csv\")\n",
    "#train.head\n",
    "train.info\n",
    "# train.shape\n",
    "# train.isnull().sum()\n",
    "# train['Embarked'].value_counts()\n",
    "train.columns"
   ]
  },
  {
   "cell_type": "code",
   "execution_count": 2,
   "id": "1c866943",
   "metadata": {
    "execution": {
     "iopub.execute_input": "2022-03-02T03:36:41.354302Z",
     "iopub.status.busy": "2022-03-02T03:36:41.353688Z",
     "iopub.status.idle": "2022-03-02T03:36:41.367545Z",
     "shell.execute_reply": "2022-03-02T03:36:41.368061Z",
     "shell.execute_reply.started": "2022-03-02T02:46:12.398088Z"
    },
    "papermill": {
     "duration": 0.027243,
     "end_time": "2022-03-02T03:36:41.368225",
     "exception": false,
     "start_time": "2022-03-02T03:36:41.340982",
     "status": "completed"
    },
    "tags": []
   },
   "outputs": [
    {
     "data": {
      "text/plain": [
       "0    549\n",
       "1    342\n",
       "Name: Survived, dtype: int64"
      ]
     },
     "execution_count": 2,
     "metadata": {},
     "output_type": "execute_result"
    }
   ],
   "source": [
    "train['Survived'].value_counts()"
   ]
  },
  {
   "cell_type": "markdown",
   "id": "d740f65b",
   "metadata": {
    "papermill": {
     "duration": 0.008813,
     "end_time": "2022-03-02T03:36:41.386216",
     "exception": false,
     "start_time": "2022-03-02T03:36:41.377403",
     "status": "completed"
    },
    "tags": []
   },
   "source": [
    "549 passengers died, and 342 passengers survived. Of those survivng passengers, what characteristics did they have that may have contributed to their survival? "
   ]
  },
  {
   "cell_type": "code",
   "execution_count": 3,
   "id": "a6bd18d8",
   "metadata": {
    "execution": {
     "iopub.execute_input": "2022-03-02T03:36:41.407982Z",
     "iopub.status.busy": "2022-03-02T03:36:41.407282Z",
     "iopub.status.idle": "2022-03-02T03:36:41.415558Z",
     "shell.execute_reply": "2022-03-02T03:36:41.414979Z",
     "shell.execute_reply.started": "2022-03-02T02:46:12.415896Z"
    },
    "papermill": {
     "duration": 0.020479,
     "end_time": "2022-03-02T03:36:41.415697",
     "exception": false,
     "start_time": "2022-03-02T03:36:41.395218",
     "status": "completed"
    },
    "tags": []
   },
   "outputs": [
    {
     "data": {
      "text/plain": [
       "male      0.647587\n",
       "female    0.352413\n",
       "Name: Sex, dtype: float64"
      ]
     },
     "execution_count": 3,
     "metadata": {},
     "output_type": "execute_result"
    }
   ],
   "source": [
    "train['Sex'].value_counts(normalize=True)"
   ]
  },
  {
   "cell_type": "markdown",
   "id": "ebc36ae3",
   "metadata": {
    "papermill": {
     "duration": 0.009403,
     "end_time": "2022-03-02T03:36:41.434651",
     "exception": false,
     "start_time": "2022-03-02T03:36:41.425248",
     "status": "completed"
    },
    "tags": []
   },
   "source": [
    "64% of the passengers are male, and 35% of the passengers are female. Because there are more male passengers, it can be mistakenly concluded that being male came with a higher chance of surviving/not surviving. We wouldn't necessarily know if the same could be said for female passengers, as there isn't an equal amount of them and therefore their results to compare to males, and vice-versa."
   ]
  },
  {
   "cell_type": "code",
   "execution_count": 4,
   "id": "9f8d294c",
   "metadata": {
    "execution": {
     "iopub.execute_input": "2022-03-02T03:36:41.457030Z",
     "iopub.status.busy": "2022-03-02T03:36:41.456350Z",
     "iopub.status.idle": "2022-03-02T03:36:41.476440Z",
     "shell.execute_reply": "2022-03-02T03:36:41.476879Z",
     "shell.execute_reply.started": "2022-03-02T02:48:27.760392Z"
    },
    "papermill": {
     "duration": 0.032513,
     "end_time": "2022-03-02T03:36:41.477058",
     "exception": false,
     "start_time": "2022-03-02T03:36:41.444545",
     "status": "completed"
    },
    "tags": []
   },
   "outputs": [
    {
     "name": "stdout",
     "output_type": "stream",
     "text": [
      "                 fates\n",
      "Sex    Survived       \n",
      "female 0            81\n",
      "       1           233\n",
      "male   0           468\n",
      "       1           109\n"
     ]
    }
   ],
   "source": [
    "my_agg=(train\n",
    " .groupby(['Sex','Survived'])\n",
    " .agg(\n",
    "     fates=pd.NamedAgg('Survived', 'count')))\n",
    "print(my_agg)"
   ]
  },
  {
   "cell_type": "markdown",
   "id": "d0c347e6",
   "metadata": {
    "papermill": {
     "duration": 0.009395,
     "end_time": "2022-03-02T03:36:41.496188",
     "exception": false,
     "start_time": "2022-03-02T03:36:41.486793",
     "status": "completed"
    },
    "tags": []
   },
   "source": [
    "More females survived than died, and more males died than survived. What other factors might have played into this?"
   ]
  },
  {
   "cell_type": "code",
   "execution_count": 5,
   "id": "db7a9177",
   "metadata": {
    "execution": {
     "iopub.execute_input": "2022-03-02T03:36:41.518479Z",
     "iopub.status.busy": "2022-03-02T03:36:41.517830Z",
     "iopub.status.idle": "2022-03-02T03:36:41.527373Z",
     "shell.execute_reply": "2022-03-02T03:36:41.527950Z",
     "shell.execute_reply.started": "2022-03-02T02:46:12.459265Z"
    },
    "papermill": {
     "duration": 0.022257,
     "end_time": "2022-03-02T03:36:41.528121",
     "exception": false,
     "start_time": "2022-03-02T03:36:41.505864",
     "status": "completed"
    },
    "tags": []
   },
   "outputs": [
    {
     "data": {
      "text/plain": [
       "count    714.000000\n",
       "mean      29.699118\n",
       "std       14.526497\n",
       "min        0.420000\n",
       "25%       20.125000\n",
       "50%       28.000000\n",
       "75%       38.000000\n",
       "max       80.000000\n",
       "Name: Age, dtype: float64"
      ]
     },
     "execution_count": 5,
     "metadata": {},
     "output_type": "execute_result"
    }
   ],
   "source": [
    "train['Age'].describe()"
   ]
  },
  {
   "cell_type": "code",
   "execution_count": 6,
   "id": "10b6a0ba",
   "metadata": {
    "execution": {
     "iopub.execute_input": "2022-03-02T03:36:41.551802Z",
     "iopub.status.busy": "2022-03-02T03:36:41.551165Z",
     "iopub.status.idle": "2022-03-02T03:36:41.568172Z",
     "shell.execute_reply": "2022-03-02T03:36:41.568672Z",
     "shell.execute_reply.started": "2022-03-02T02:46:12.471388Z"
    },
    "papermill": {
     "duration": 0.030678,
     "end_time": "2022-03-02T03:36:41.568838",
     "exception": false,
     "start_time": "2022-03-02T03:36:41.538160",
     "status": "completed"
    },
    "tags": []
   },
   "outputs": [
    {
     "name": "stdout",
     "output_type": "stream",
     "text": [
      "                      b1\n",
      "Sex    Survived Age     \n",
      "female 0        2.0    4\n",
      "                3.0    1\n",
      "                6.0    1\n",
      "                8.0    1\n",
      "                9.0    4\n",
      "...                   ..\n",
      "male   1        52.0   1\n",
      "                56.0   1\n",
      "                60.0   1\n",
      "                62.0   1\n",
      "                80.0   1\n",
      "\n",
      "[216 rows x 1 columns]\n"
     ]
    }
   ],
   "source": [
    "class Quantile:\n",
    "    def __init__(self, q):\n",
    "        self.q=q\n",
    "    def __call__(self, x):\n",
    "        return x.quantile(self.q)\n",
    "    \n",
    "print(\n",
    "train\n",
    ".groupby(['Sex', 'Survived', 'Age'])\n",
    ".agg(\n",
    "    b1=('Age', 'size'),\n",
    "    )\n",
    ")\n"
   ]
  },
  {
   "cell_type": "code",
   "execution_count": 7,
   "id": "6327a1fa",
   "metadata": {
    "execution": {
     "iopub.execute_input": "2022-03-02T03:36:41.592702Z",
     "iopub.status.busy": "2022-03-02T03:36:41.592083Z",
     "iopub.status.idle": "2022-03-02T03:36:41.615163Z",
     "shell.execute_reply": "2022-03-02T03:36:41.614567Z",
     "shell.execute_reply.started": "2022-03-02T02:46:12.496593Z"
    },
    "papermill": {
     "duration": 0.03597,
     "end_time": "2022-03-02T03:36:41.615299",
     "exception": false,
     "start_time": "2022-03-02T03:36:41.579329",
     "status": "completed"
    },
    "tags": []
   },
   "outputs": [
    {
     "data": {
      "text/html": [
       "<div>\n",
       "<style scoped>\n",
       "    .dataframe tbody tr th:only-of-type {\n",
       "        vertical-align: middle;\n",
       "    }\n",
       "\n",
       "    .dataframe tbody tr th {\n",
       "        vertical-align: top;\n",
       "    }\n",
       "\n",
       "    .dataframe thead th {\n",
       "        text-align: right;\n",
       "    }\n",
       "</style>\n",
       "<table border=\"1\" class=\"dataframe\">\n",
       "  <thead>\n",
       "    <tr style=\"text-align: right;\">\n",
       "      <th></th>\n",
       "      <th></th>\n",
       "      <th>under21</th>\n",
       "    </tr>\n",
       "    <tr>\n",
       "      <th>Sex</th>\n",
       "      <th>Survived</th>\n",
       "      <th></th>\n",
       "    </tr>\n",
       "  </thead>\n",
       "  <tbody>\n",
       "    <tr>\n",
       "      <th rowspan=\"2\" valign=\"top\">female</th>\n",
       "      <th>0</th>\n",
       "      <td>24</td>\n",
       "    </tr>\n",
       "    <tr>\n",
       "      <th>1</th>\n",
       "      <td>53</td>\n",
       "    </tr>\n",
       "    <tr>\n",
       "      <th rowspan=\"2\" valign=\"top\">male</th>\n",
       "      <th>0</th>\n",
       "      <td>73</td>\n",
       "    </tr>\n",
       "    <tr>\n",
       "      <th>1</th>\n",
       "      <td>29</td>\n",
       "    </tr>\n",
       "  </tbody>\n",
       "</table>\n",
       "</div>"
      ],
      "text/plain": [
       "                 under21\n",
       "Sex    Survived         \n",
       "female 0              24\n",
       "       1              53\n",
       "male   0              73\n",
       "       1              29"
      ]
     },
     "execution_count": 7,
     "metadata": {},
     "output_type": "execute_result"
    }
   ],
   "source": [
    "train.where(train.Age <= 20)\\\n",
    "    .groupby([train.Sex,train.Survived])\\\n",
    "    .agg(\n",
    "        under21=pd.NamedAgg('Survived', 'count'))"
   ]
  },
  {
   "cell_type": "code",
   "execution_count": 8,
   "id": "896cac52",
   "metadata": {
    "execution": {
     "iopub.execute_input": "2022-03-02T03:36:41.646842Z",
     "iopub.status.busy": "2022-03-02T03:36:41.645905Z",
     "iopub.status.idle": "2022-03-02T03:36:41.671188Z",
     "shell.execute_reply": "2022-03-02T03:36:41.672076Z",
     "shell.execute_reply.started": "2022-03-02T03:34:36.552903Z"
    },
    "papermill": {
     "duration": 0.04417,
     "end_time": "2022-03-02T03:36:41.672330",
     "exception": false,
     "start_time": "2022-03-02T03:36:41.628160",
     "status": "completed"
    },
    "tags": []
   },
   "outputs": [
    {
     "data": {
      "text/html": [
       "<div>\n",
       "<style scoped>\n",
       "    .dataframe tbody tr th:only-of-type {\n",
       "        vertical-align: middle;\n",
       "    }\n",
       "\n",
       "    .dataframe tbody tr th {\n",
       "        vertical-align: top;\n",
       "    }\n",
       "\n",
       "    .dataframe thead th {\n",
       "        text-align: right;\n",
       "    }\n",
       "</style>\n",
       "<table border=\"1\" class=\"dataframe\">\n",
       "  <thead>\n",
       "    <tr style=\"text-align: right;\">\n",
       "      <th></th>\n",
       "      <th>Age</th>\n",
       "      <th>0-20</th>\n",
       "      <th>21-28</th>\n",
       "      <th>29-38</th>\n",
       "      <th>38-80</th>\n",
       "    </tr>\n",
       "    <tr>\n",
       "      <th>Sex</th>\n",
       "      <th>Survived</th>\n",
       "      <th></th>\n",
       "      <th></th>\n",
       "      <th></th>\n",
       "      <th></th>\n",
       "    </tr>\n",
       "  </thead>\n",
       "  <tbody>\n",
       "    <tr>\n",
       "      <th rowspan=\"2\" valign=\"top\">female</th>\n",
       "      <th>0</th>\n",
       "      <td>24</td>\n",
       "      <td>16</td>\n",
       "      <td>10</td>\n",
       "      <td>14</td>\n",
       "    </tr>\n",
       "    <tr>\n",
       "      <th>1</th>\n",
       "      <td>53</td>\n",
       "      <td>47</td>\n",
       "      <td>51</td>\n",
       "      <td>46</td>\n",
       "    </tr>\n",
       "    <tr>\n",
       "      <th rowspan=\"2\" valign=\"top\">male</th>\n",
       "      <th>0</th>\n",
       "      <td>73</td>\n",
       "      <td>101</td>\n",
       "      <td>89</td>\n",
       "      <td>97</td>\n",
       "    </tr>\n",
       "    <tr>\n",
       "      <th>1</th>\n",
       "      <td>28</td>\n",
       "      <td>19</td>\n",
       "      <td>25</td>\n",
       "      <td>20</td>\n",
       "    </tr>\n",
       "  </tbody>\n",
       "</table>\n",
       "</div>"
      ],
      "text/plain": [
       "Age              0-20  21-28  29-38  38-80\n",
       "Sex    Survived                           \n",
       "female 0           24     16     10     14\n",
       "       1           53     47     51     46\n",
       "male   0           73    101     89     97\n",
       "       1           28     19     25     20"
      ]
     },
     "execution_count": 8,
     "metadata": {},
     "output_type": "execute_result"
    }
   ],
   "source": [
    "train.groupby(['Sex', \n",
    "               'Survived', \n",
    "               pd.cut(x=train['Age'],\n",
    "                      bins=train['Age'].quantile([0,.25,.5,.75,1]),\n",
    "                      labels=['0-20','21-28','29-38','38-80'])\n",
    "              ])\\\n",
    "      .size()\\\n",
    "      .unstack()"
   ]
  }
 ],
 "metadata": {
  "kernelspec": {
   "display_name": "Python 3",
   "language": "python",
   "name": "python3"
  },
  "language_info": {
   "codemirror_mode": {
    "name": "ipython",
    "version": 3
   },
   "file_extension": ".py",
   "mimetype": "text/x-python",
   "name": "python",
   "nbconvert_exporter": "python",
   "pygments_lexer": "ipython3",
   "version": "3.7.12"
  },
  "papermill": {
   "default_parameters": {},
   "duration": 10.29489,
   "end_time": "2022-03-02T03:36:42.300121",
   "environment_variables": {},
   "exception": null,
   "input_path": "__notebook__.ipynb",
   "output_path": "__notebook__.ipynb",
   "parameters": {},
   "start_time": "2022-03-02T03:36:32.005231",
   "version": "2.3.3"
  }
 },
 "nbformat": 4,
 "nbformat_minor": 5
}
