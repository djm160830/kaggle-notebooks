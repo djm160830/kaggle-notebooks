{
 "cells": [
  {
   "cell_type": "code",
   "execution_count": 1,
   "id": "a7081a62",
   "metadata": {
    "execution": {
     "iopub.execute_input": "2022-03-11T03:55:40.584565Z",
     "iopub.status.busy": "2022-03-11T03:55:40.583286Z",
     "iopub.status.idle": "2022-03-11T03:55:41.778029Z",
     "shell.execute_reply": "2022-03-11T03:55:41.777310Z",
     "shell.execute_reply.started": "2022-03-11T03:41:29.621850Z"
    },
    "papermill": {
     "duration": 1.212404,
     "end_time": "2022-03-11T03:55:41.778266",
     "exception": false,
     "start_time": "2022-03-11T03:55:40.565862",
     "status": "completed"
    },
    "tags": []
   },
   "outputs": [
    {
     "data": {
      "text/plain": [
       "Index(['PassengerId', 'Survived', 'Pclass', 'Name', 'Sex', 'Age', 'SibSp',\n",
       "       'Parch', 'Ticket', 'Fare', 'Cabin', 'Embarked'],\n",
       "      dtype='object')"
      ]
     },
     "execution_count": 1,
     "metadata": {},
     "output_type": "execute_result"
    }
   ],
   "source": [
    "import numpy as np\n",
    "import pandas as pd\n",
    "import seaborn as sns\n",
    "\n",
    "# EDA\n",
    "train = pd.read_csv(\"/kaggle/input/titanic/train.csv\")\n",
    "#train.head\n",
    "train.info\n",
    "# train.shape\n",
    "# train.isnull().sum()\n",
    "# train['Embarked'].value_counts()\n",
    "train.columns"
   ]
  },
  {
   "cell_type": "code",
   "execution_count": 2,
   "id": "bcf4c39d",
   "metadata": {
    "execution": {
     "iopub.execute_input": "2022-03-11T03:55:41.821337Z",
     "iopub.status.busy": "2022-03-11T03:55:41.820388Z",
     "iopub.status.idle": "2022-03-11T03:55:41.823996Z",
     "shell.execute_reply": "2022-03-11T03:55:41.824490Z",
     "shell.execute_reply.started": "2022-03-11T03:41:30.725696Z"
    },
    "papermill": {
     "duration": 0.031635,
     "end_time": "2022-03-11T03:55:41.824692",
     "exception": false,
     "start_time": "2022-03-11T03:55:41.793057",
     "status": "completed"
    },
    "tags": []
   },
   "outputs": [
    {
     "data": {
      "text/plain": [
       "0    549\n",
       "1    342\n",
       "Name: Survived, dtype: int64"
      ]
     },
     "execution_count": 2,
     "metadata": {},
     "output_type": "execute_result"
    }
   ],
   "source": [
    "train['Survived'].value_counts()"
   ]
  },
  {
   "cell_type": "markdown",
   "id": "6d9398a2",
   "metadata": {
    "papermill": {
     "duration": 0.012845,
     "end_time": "2022-03-11T03:55:41.850781",
     "exception": false,
     "start_time": "2022-03-11T03:55:41.837936",
     "status": "completed"
    },
    "tags": []
   },
   "source": [
    "549 passengers died, and 342 passengers survived. Of those survivng passengers, what characteristics did they have that may have contributed to their survival? "
   ]
  },
  {
   "cell_type": "code",
   "execution_count": 3,
   "id": "7b2e6aa6",
   "metadata": {
    "execution": {
     "iopub.execute_input": "2022-03-11T03:55:41.886603Z",
     "iopub.status.busy": "2022-03-11T03:55:41.885821Z",
     "iopub.status.idle": "2022-03-11T03:55:41.888611Z",
     "shell.execute_reply": "2022-03-11T03:55:41.889106Z",
     "shell.execute_reply.started": "2022-03-11T03:41:30.742029Z"
    },
    "papermill": {
     "duration": 0.025483,
     "end_time": "2022-03-11T03:55:41.889307",
     "exception": false,
     "start_time": "2022-03-11T03:55:41.863824",
     "status": "completed"
    },
    "tags": []
   },
   "outputs": [
    {
     "data": {
      "text/plain": [
       "male      0.647587\n",
       "female    0.352413\n",
       "Name: Sex, dtype: float64"
      ]
     },
     "execution_count": 3,
     "metadata": {},
     "output_type": "execute_result"
    }
   ],
   "source": [
    "train['Sex'].value_counts(normalize=True)"
   ]
  },
  {
   "cell_type": "markdown",
   "id": "290868f4",
   "metadata": {
    "papermill": {
     "duration": 0.013789,
     "end_time": "2022-03-11T03:55:41.917495",
     "exception": false,
     "start_time": "2022-03-11T03:55:41.903706",
     "status": "completed"
    },
    "tags": []
   },
   "source": [
    "64% of the passengers are male, and 35% of the passengers are female. Because there are more male passengers, it can be mistakenly concluded that being male came with a higher chance of surviving/not surviving. We wouldn't necessarily know if the same could be said for female passengers, as there isn't an equal amount of them and therefore their results to compare to males, and vice-versa."
   ]
  },
  {
   "cell_type": "code",
   "execution_count": 4,
   "id": "16176ae6",
   "metadata": {
    "execution": {
     "iopub.execute_input": "2022-03-11T03:55:41.949781Z",
     "iopub.status.busy": "2022-03-11T03:55:41.949090Z",
     "iopub.status.idle": "2022-03-11T03:55:41.969908Z",
     "shell.execute_reply": "2022-03-11T03:55:41.970474Z",
     "shell.execute_reply.started": "2022-03-11T03:41:30.757571Z"
    },
    "papermill": {
     "duration": 0.038396,
     "end_time": "2022-03-11T03:55:41.970669",
     "exception": false,
     "start_time": "2022-03-11T03:55:41.932273",
     "status": "completed"
    },
    "tags": []
   },
   "outputs": [
    {
     "name": "stdout",
     "output_type": "stream",
     "text": [
      "                 fates\n",
      "Sex    Survived       \n",
      "female 0            81\n",
      "       1           233\n",
      "male   0           468\n",
      "       1           109\n"
     ]
    }
   ],
   "source": [
    "my_agg=(train\n",
    " .groupby(['Sex','Survived'])\n",
    " .agg(\n",
    "     fates=pd.NamedAgg('Survived', 'count')))\n",
    "print(my_agg)"
   ]
  },
  {
   "cell_type": "markdown",
   "id": "8506799c",
   "metadata": {
    "papermill": {
     "duration": 0.013496,
     "end_time": "2022-03-11T03:55:41.998105",
     "exception": false,
     "start_time": "2022-03-11T03:55:41.984609",
     "status": "completed"
    },
    "tags": []
   },
   "source": [
    "More females survived than died in their group, and more males died than survived in their group. What other factors might have played into this?"
   ]
  },
  {
   "cell_type": "code",
   "execution_count": 5,
   "id": "80942276",
   "metadata": {
    "execution": {
     "iopub.execute_input": "2022-03-11T03:55:42.031865Z",
     "iopub.status.busy": "2022-03-11T03:55:42.031169Z",
     "iopub.status.idle": "2022-03-11T03:55:42.041738Z",
     "shell.execute_reply": "2022-03-11T03:55:42.042233Z",
     "shell.execute_reply.started": "2022-03-11T03:41:30.782816Z"
    },
    "papermill": {
     "duration": 0.030382,
     "end_time": "2022-03-11T03:55:42.042444",
     "exception": false,
     "start_time": "2022-03-11T03:55:42.012062",
     "status": "completed"
    },
    "tags": []
   },
   "outputs": [
    {
     "data": {
      "text/plain": [
       "count    714.000000\n",
       "mean      29.699118\n",
       "std       14.526497\n",
       "min        0.420000\n",
       "25%       20.125000\n",
       "50%       28.000000\n",
       "75%       38.000000\n",
       "max       80.000000\n",
       "Name: Age, dtype: float64"
      ]
     },
     "execution_count": 5,
     "metadata": {},
     "output_type": "execute_result"
    }
   ],
   "source": [
    "train['Age'].describe()"
   ]
  },
  {
   "cell_type": "markdown",
   "id": "e3538be7",
   "metadata": {
    "papermill": {
     "duration": 0.014165,
     "end_time": "2022-03-11T03:55:42.071393",
     "exception": false,
     "start_time": "2022-03-11T03:55:42.057228",
     "status": "completed"
    },
    "tags": []
   },
   "source": [
    "This shows me what age most of the population is around. It looks as if most of the passengers (75% of them) are age 38 and below."
   ]
  },
  {
   "cell_type": "code",
   "execution_count": 6,
   "id": "a9f69e5d",
   "metadata": {
    "execution": {
     "iopub.execute_input": "2022-03-11T03:55:42.105082Z",
     "iopub.status.busy": "2022-03-11T03:55:42.104406Z",
     "iopub.status.idle": "2022-03-11T03:55:42.110103Z",
     "shell.execute_reply": "2022-03-11T03:55:42.110758Z",
     "shell.execute_reply.started": "2022-03-11T03:43:20.812014Z"
    },
    "papermill": {
     "duration": 0.024826,
     "end_time": "2022-03-11T03:55:42.110955",
     "exception": false,
     "start_time": "2022-03-11T03:55:42.086129",
     "status": "completed"
    },
    "tags": []
   },
   "outputs": [],
   "source": [
    "mybins = pd.IntervalIndex.from_tuples([(0,10),(10,20),(20,30),(30,40),(40,50),(50,60),(60,70),(70,80)])"
   ]
  },
  {
   "cell_type": "code",
   "execution_count": 7,
   "id": "6933b55b",
   "metadata": {
    "execution": {
     "iopub.execute_input": "2022-03-11T03:55:42.145664Z",
     "iopub.status.busy": "2022-03-11T03:55:42.144601Z",
     "iopub.status.idle": "2022-03-11T03:55:42.189496Z",
     "shell.execute_reply": "2022-03-11T03:55:42.190034Z",
     "shell.execute_reply.started": "2022-03-11T03:43:32.839667Z"
    },
    "papermill": {
     "duration": 0.064199,
     "end_time": "2022-03-11T03:55:42.190251",
     "exception": false,
     "start_time": "2022-03-11T03:55:42.126052",
     "status": "completed"
    },
    "tags": []
   },
   "outputs": [
    {
     "data": {
      "text/html": [
       "<div>\n",
       "<style scoped>\n",
       "    .dataframe tbody tr th:only-of-type {\n",
       "        vertical-align: middle;\n",
       "    }\n",
       "\n",
       "    .dataframe tbody tr th {\n",
       "        vertical-align: top;\n",
       "    }\n",
       "\n",
       "    .dataframe thead th {\n",
       "        text-align: right;\n",
       "    }\n",
       "</style>\n",
       "<table border=\"1\" class=\"dataframe\">\n",
       "  <thead>\n",
       "    <tr style=\"text-align: right;\">\n",
       "      <th></th>\n",
       "      <th>Age</th>\n",
       "      <th>(0, 10]</th>\n",
       "      <th>(10, 20]</th>\n",
       "      <th>(20, 30]</th>\n",
       "      <th>(30, 40]</th>\n",
       "      <th>(40, 50]</th>\n",
       "      <th>(50, 60]</th>\n",
       "      <th>(60, 70]</th>\n",
       "      <th>(70, 80]</th>\n",
       "    </tr>\n",
       "    <tr>\n",
       "      <th>Sex</th>\n",
       "      <th>Survived</th>\n",
       "      <th></th>\n",
       "      <th></th>\n",
       "      <th></th>\n",
       "      <th></th>\n",
       "      <th></th>\n",
       "      <th></th>\n",
       "      <th></th>\n",
       "      <th></th>\n",
       "    </tr>\n",
       "  </thead>\n",
       "  <tbody>\n",
       "    <tr>\n",
       "      <th rowspan=\"2\" valign=\"top\">female</th>\n",
       "      <th>0</th>\n",
       "      <td>12</td>\n",
       "      <td>12</td>\n",
       "      <td>20</td>\n",
       "      <td>9</td>\n",
       "      <td>10</td>\n",
       "      <td>1</td>\n",
       "      <td>0</td>\n",
       "      <td>0</td>\n",
       "    </tr>\n",
       "    <tr>\n",
       "      <th>1</th>\n",
       "      <td>19</td>\n",
       "      <td>34</td>\n",
       "      <td>61</td>\n",
       "      <td>46</td>\n",
       "      <td>21</td>\n",
       "      <td>13</td>\n",
       "      <td>3</td>\n",
       "      <td>0</td>\n",
       "    </tr>\n",
       "    <tr>\n",
       "      <th rowspan=\"2\" valign=\"top\">male</th>\n",
       "      <th>0</th>\n",
       "      <td>14</td>\n",
       "      <td>59</td>\n",
       "      <td>126</td>\n",
       "      <td>77</td>\n",
       "      <td>43</td>\n",
       "      <td>24</td>\n",
       "      <td>13</td>\n",
       "      <td>4</td>\n",
       "    </tr>\n",
       "    <tr>\n",
       "      <th>1</th>\n",
       "      <td>19</td>\n",
       "      <td>10</td>\n",
       "      <td>23</td>\n",
       "      <td>23</td>\n",
       "      <td>12</td>\n",
       "      <td>4</td>\n",
       "      <td>1</td>\n",
       "      <td>1</td>\n",
       "    </tr>\n",
       "  </tbody>\n",
       "</table>\n",
       "</div>"
      ],
      "text/plain": [
       "Age              (0, 10]  (10, 20]  (20, 30]  (30, 40]  (40, 50]  (50, 60]  \\\n",
       "Sex    Survived                                                              \n",
       "female 0              12        12        20         9        10         1   \n",
       "       1              19        34        61        46        21        13   \n",
       "male   0              14        59       126        77        43        24   \n",
       "       1              19        10        23        23        12         4   \n",
       "\n",
       "Age              (60, 70]  (70, 80]  \n",
       "Sex    Survived                      \n",
       "female 0                0         0  \n",
       "       1                3         0  \n",
       "male   0               13         4  \n",
       "       1                1         1  "
      ]
     },
     "execution_count": 7,
     "metadata": {},
     "output_type": "execute_result"
    }
   ],
   "source": [
    "train.groupby(['Sex', \n",
    "               'Survived', \n",
    "               pd.cut(x=train['Age'],\n",
    "                      bins=mybins)\n",
    "              ])\\\n",
    "      .size()\\\n",
    "      .unstack()"
   ]
  },
  {
   "cell_type": "markdown",
   "id": "888c291a",
   "metadata": {
    "papermill": {
     "duration": 0.015173,
     "end_time": "2022-03-11T03:55:42.221354",
     "exception": false,
     "start_time": "2022-03-11T03:55:42.206181",
     "status": "completed"
    },
    "tags": []
   },
   "source": [
    "Because there isn't an even number of each age to properly determine whether age played a huge factor into surviving or not, I'm putting them into buckets based on their quantiles:"
   ]
  },
  {
   "cell_type": "code",
   "execution_count": 8,
   "id": "ffb5a46e",
   "metadata": {
    "execution": {
     "iopub.execute_input": "2022-03-11T03:55:42.256154Z",
     "iopub.status.busy": "2022-03-11T03:55:42.255440Z",
     "iopub.status.idle": "2022-03-11T03:55:42.859700Z",
     "shell.execute_reply": "2022-03-11T03:55:42.859093Z",
     "shell.execute_reply.started": "2022-03-11T03:49:46.707409Z"
    },
    "papermill": {
     "duration": 0.623188,
     "end_time": "2022-03-11T03:55:42.859857",
     "exception": false,
     "start_time": "2022-03-11T03:55:42.236669",
     "status": "completed"
    },
    "tags": []
   },
   "outputs": [
    {
     "data": {
      "image/png": "[encoded data removed]",
      "text/plain": [
       "<Figure size 771.875x360 with 2 Axes>"
      ]
     },
     "metadata": {
      "needs_background": "light"
     },
     "output_type": "display_data"
    }
   ],
   "source": [
    "df2=train.groupby(['Sex',\n",
    "              pd.cut(x=train['Age'],\n",
    "                      bins=train['Age'].quantile([0,.25,.5,.75,1]),\n",
    "                      labels=['0-20','21-28','29-38','38-80'])\n",
    "              ],\\\n",
    "             )['Survived']\\\n",
    "    .value_counts(normalize=True)\\\n",
    "    .mul(100)\\\n",
    "    .rename('Percent')\\\n",
    "    .reset_index(level=1)\\\n",
    "    .reset_index(level=1)\\\n",
    "    .reset_index(level=0)\\\n",
    "    .pipe((sns.catplot,'data'), x='Age', y='Percent', hue='Survived', col='Sex', kind='bar')"
   ]
  }
 ],
 "metadata": {
  "kernelspec": {
   "display_name": "Python 3",
   "language": "python",
   "name": "python3"
  },
  "language_info": {
   "codemirror_mode": {
    "name": "ipython",
    "version": 3
   },
   "file_extension": ".py",
   "mimetype": "text/x-python",
   "name": "python",
   "nbconvert_exporter": "python",
   "pygments_lexer": "ipython3",
   "version": "3.7.12"
  },
  "papermill": {
   "default_parameters": {},
   "duration": 13.92898,
   "end_time": "2022-03-11T03:55:43.889329",
   "environment_variables": {},
   "exception": null,
   "input_path": "__notebook__.ipynb",
   "output_path": "__notebook__.ipynb",
   "parameters": {},
   "start_time": "2022-03-11T03:55:29.960349",
   "version": "2.3.3"
  }
 },
 "nbformat": 4,
 "nbformat_minor": 5
}
