{
 "cells": [
  {
   "cell_type": "code",
   "execution_count": 1,
   "id": "d801a098",
   "metadata": {
    "execution": {
     "iopub.execute_input": "2022-03-25T04:52:12.847421Z",
     "iopub.status.busy": "2022-03-25T04:52:12.846745Z",
     "iopub.status.idle": "2022-03-25T04:52:13.935215Z",
     "shell.execute_reply": "2022-03-25T04:52:13.934521Z",
     "shell.execute_reply.started": "2022-03-25T00:52:24.365228Z"
    },
    "papermill": {
     "duration": 1.123041,
     "end_time": "2022-03-25T04:52:13.935447",
     "exception": false,
     "start_time": "2022-03-25T04:52:12.812406",
     "status": "completed"
    },
    "tags": []
   },
   "outputs": [],
   "source": [
    "import numpy as np\n",
    "import pandas as pd\n",
    "import seaborn as sns\n",
    "import matplotlib.pyplot as plt"
   ]
  },
  {
   "cell_type": "code",
   "execution_count": 2,
   "id": "adedcc60",
   "metadata": {
    "execution": {
     "iopub.execute_input": "2022-03-25T04:52:13.993327Z",
     "iopub.status.busy": "2022-03-25T04:52:13.992645Z",
     "iopub.status.idle": "2022-03-25T04:52:14.017935Z",
     "shell.execute_reply": "2022-03-25T04:52:14.018485Z",
     "shell.execute_reply.started": "2022-03-25T00:52:25.472089Z"
    },
    "papermill": {
     "duration": 0.056217,
     "end_time": "2022-03-25T04:52:14.018670",
     "exception": false,
     "start_time": "2022-03-25T04:52:13.962453",
     "status": "completed"
    },
    "tags": []
   },
   "outputs": [
    {
     "data": {
      "text/plain": [
       "Index(['PassengerId', 'Survived', 'Pclass', 'Name', 'Sex', 'Age', 'SibSp',\n",
       "       'Parch', 'Ticket', 'Fare', 'Cabin', 'Embarked'],\n",
       "      dtype='object')"
      ]
     },
     "execution_count": 2,
     "metadata": {},
     "output_type": "execute_result"
    }
   ],
   "source": [
    "train = pd.read_csv(\"/kaggle/input/titanic/train.csv\")\n",
    "train.columns"
   ]
  },
  {
   "cell_type": "code",
   "execution_count": 3,
   "id": "f5142058",
   "metadata": {
    "execution": {
     "iopub.execute_input": "2022-03-25T04:52:14.077646Z",
     "iopub.status.busy": "2022-03-25T04:52:14.076976Z",
     "iopub.status.idle": "2022-03-25T04:52:14.086249Z",
     "shell.execute_reply": "2022-03-25T04:52:14.086803Z",
     "shell.execute_reply.started": "2022-03-25T00:52:25.503585Z"
    },
    "papermill": {
     "duration": 0.043277,
     "end_time": "2022-03-25T04:52:14.086976",
     "exception": false,
     "start_time": "2022-03-25T04:52:14.043699",
     "status": "completed"
    },
    "tags": []
   },
   "outputs": [
    {
     "data": {
      "text/plain": [
       "0    549\n",
       "1    342\n",
       "Name: Survived, dtype: int64"
      ]
     },
     "execution_count": 3,
     "metadata": {},
     "output_type": "execute_result"
    }
   ],
   "source": [
    "train['Survived'].value_counts()"
   ]
  },
  {
   "cell_type": "markdown",
   "id": "76a1f2f7",
   "metadata": {
    "papermill": {
     "duration": 0.024135,
     "end_time": "2022-03-25T04:52:14.135949",
     "exception": false,
     "start_time": "2022-03-25T04:52:14.111814",
     "status": "completed"
    },
    "tags": []
   },
   "source": [
    "549 passengers died, and 342 passengers survived (in this sample). Of those survivng passengers, what characteristics did they have that may have contributed to their survival? "
   ]
  },
  {
   "cell_type": "code",
   "execution_count": 4,
   "id": "70f67a5b",
   "metadata": {
    "execution": {
     "iopub.execute_input": "2022-03-25T04:52:14.194778Z",
     "iopub.status.busy": "2022-03-25T04:52:14.194104Z",
     "iopub.status.idle": "2022-03-25T04:52:14.196677Z",
     "shell.execute_reply": "2022-03-25T04:52:14.197172Z",
     "shell.execute_reply.started": "2022-03-25T00:52:25.517813Z"
    },
    "papermill": {
     "duration": 0.036936,
     "end_time": "2022-03-25T04:52:14.197338",
     "exception": false,
     "start_time": "2022-03-25T04:52:14.160402",
     "status": "completed"
    },
    "tags": []
   },
   "outputs": [
    {
     "data": {
      "text/plain": [
       "male      0.647587\n",
       "female    0.352413\n",
       "Name: Sex, dtype: float64"
      ]
     },
     "execution_count": 4,
     "metadata": {},
     "output_type": "execute_result"
    }
   ],
   "source": [
    "train['Sex'].value_counts(normalize=True)"
   ]
  },
  {
   "cell_type": "markdown",
   "id": "d7df4257",
   "metadata": {
    "papermill": {
     "duration": 0.025144,
     "end_time": "2022-03-25T04:52:14.248779",
     "exception": false,
     "start_time": "2022-03-25T04:52:14.223635",
     "status": "completed"
    },
    "tags": []
   },
   "source": [
    "64% of the passengers are male, and 35% of the passengers are female. Because there are more male passengers, it can be mistakenly inferred that being male came with a higher chance of surviving/not surviving. We wouldn't necessarily know if the same could be said for female passengers, as there aren't an equal amount of them and their results to compare to males, and vice-versa."
   ]
  },
  {
   "cell_type": "code",
   "execution_count": 5,
   "id": "a1d0b44e",
   "metadata": {
    "execution": {
     "iopub.execute_input": "2022-03-25T04:52:14.306617Z",
     "iopub.status.busy": "2022-03-25T04:52:14.305974Z",
     "iopub.status.idle": "2022-03-25T04:52:14.323158Z",
     "shell.execute_reply": "2022-03-25T04:52:14.323923Z",
     "shell.execute_reply.started": "2022-03-25T00:52:25.533144Z"
    },
    "papermill": {
     "duration": 0.050573,
     "end_time": "2022-03-25T04:52:14.324155",
     "exception": false,
     "start_time": "2022-03-25T04:52:14.273582",
     "status": "completed"
    },
    "tags": []
   },
   "outputs": [
    {
     "name": "stdout",
     "output_type": "stream",
     "text": [
      "                 fates\n",
      "Sex    Survived       \n",
      "female 0            81\n",
      "       1           233\n",
      "male   0           468\n",
      "       1           109\n"
     ]
    }
   ],
   "source": [
    "my_agg=(train\n",
    " .groupby(['Sex','Survived'])\n",
    " .agg(\n",
    "     fates=pd.NamedAgg('Survived', 'count')))\n",
    "print(my_agg)"
   ]
  },
  {
   "cell_type": "markdown",
   "id": "f8fb5972",
   "metadata": {
    "papermill": {
     "duration": 0.025279,
     "end_time": "2022-03-25T04:52:14.375828",
     "exception": false,
     "start_time": "2022-03-25T04:52:14.350549",
     "status": "completed"
    },
    "tags": []
   },
   "source": [
    "More females survived than died in their group, and more males died than survived in their group. What other factors might have played into this?"
   ]
  },
  {
   "cell_type": "code",
   "execution_count": 6,
   "id": "2984767f",
   "metadata": {
    "execution": {
     "iopub.execute_input": "2022-03-25T04:52:14.431690Z",
     "iopub.status.busy": "2022-03-25T04:52:14.431081Z",
     "iopub.status.idle": "2022-03-25T04:52:14.441821Z",
     "shell.execute_reply": "2022-03-25T04:52:14.442447Z",
     "shell.execute_reply.started": "2022-03-25T00:52:25.558039Z"
    },
    "papermill": {
     "duration": 0.04134,
     "end_time": "2022-03-25T04:52:14.442615",
     "exception": false,
     "start_time": "2022-03-25T04:52:14.401275",
     "status": "completed"
    },
    "tags": []
   },
   "outputs": [
    {
     "data": {
      "text/plain": [
       "count    714.000000\n",
       "mean      29.699118\n",
       "std       14.526497\n",
       "min        0.420000\n",
       "25%       20.125000\n",
       "50%       28.000000\n",
       "75%       38.000000\n",
       "max       80.000000\n",
       "Name: Age, dtype: float64"
      ]
     },
     "execution_count": 6,
     "metadata": {},
     "output_type": "execute_result"
    }
   ],
   "source": [
    "train['Age'].describe()"
   ]
  },
  {
   "cell_type": "markdown",
   "id": "007a01c0",
   "metadata": {
    "papermill": {
     "duration": 0.026192,
     "end_time": "2022-03-25T04:52:14.494392",
     "exception": false,
     "start_time": "2022-03-25T04:52:14.468200",
     "status": "completed"
    },
    "tags": []
   },
   "source": [
    "It looks as if most of the passengers (75% of them) are age 38 and below."
   ]
  },
  {
   "cell_type": "code",
   "execution_count": 7,
   "id": "b5f2b2b5",
   "metadata": {
    "execution": {
     "iopub.execute_input": "2022-03-25T04:52:14.550745Z",
     "iopub.status.busy": "2022-03-25T04:52:14.550061Z",
     "iopub.status.idle": "2022-03-25T04:52:14.599663Z",
     "shell.execute_reply": "2022-03-25T04:52:14.598986Z",
     "shell.execute_reply.started": "2022-03-25T00:52:25.571492Z"
    },
    "papermill": {
     "duration": 0.078622,
     "end_time": "2022-03-25T04:52:14.599804",
     "exception": false,
     "start_time": "2022-03-25T04:52:14.521182",
     "status": "completed"
    },
    "tags": []
   },
   "outputs": [
    {
     "data": {
      "text/html": [
       "<div>\n",
       "<style scoped>\n",
       "    .dataframe tbody tr th:only-of-type {\n",
       "        vertical-align: middle;\n",
       "    }\n",
       "\n",
       "    .dataframe tbody tr th {\n",
       "        vertical-align: top;\n",
       "    }\n",
       "\n",
       "    .dataframe thead th {\n",
       "        text-align: right;\n",
       "    }\n",
       "</style>\n",
       "<table border=\"1\" class=\"dataframe\">\n",
       "  <thead>\n",
       "    <tr style=\"text-align: right;\">\n",
       "      <th></th>\n",
       "      <th>Age</th>\n",
       "      <th>(0, 10]</th>\n",
       "      <th>(10, 20]</th>\n",
       "      <th>(20, 30]</th>\n",
       "      <th>(30, 40]</th>\n",
       "      <th>(40, 50]</th>\n",
       "      <th>(50, 60]</th>\n",
       "      <th>(60, 70]</th>\n",
       "      <th>(70, 80]</th>\n",
       "    </tr>\n",
       "    <tr>\n",
       "      <th>Sex</th>\n",
       "      <th>Survived</th>\n",
       "      <th></th>\n",
       "      <th></th>\n",
       "      <th></th>\n",
       "      <th></th>\n",
       "      <th></th>\n",
       "      <th></th>\n",
       "      <th></th>\n",
       "      <th></th>\n",
       "    </tr>\n",
       "  </thead>\n",
       "  <tbody>\n",
       "    <tr>\n",
       "      <th rowspan=\"2\" valign=\"top\">female</th>\n",
       "      <th>0</th>\n",
       "      <td>12</td>\n",
       "      <td>12</td>\n",
       "      <td>20</td>\n",
       "      <td>9</td>\n",
       "      <td>10</td>\n",
       "      <td>1</td>\n",
       "      <td>0</td>\n",
       "      <td>0</td>\n",
       "    </tr>\n",
       "    <tr>\n",
       "      <th>1</th>\n",
       "      <td>19</td>\n",
       "      <td>34</td>\n",
       "      <td>61</td>\n",
       "      <td>46</td>\n",
       "      <td>21</td>\n",
       "      <td>13</td>\n",
       "      <td>3</td>\n",
       "      <td>0</td>\n",
       "    </tr>\n",
       "    <tr>\n",
       "      <th rowspan=\"2\" valign=\"top\">male</th>\n",
       "      <th>0</th>\n",
       "      <td>14</td>\n",
       "      <td>59</td>\n",
       "      <td>126</td>\n",
       "      <td>77</td>\n",
       "      <td>43</td>\n",
       "      <td>24</td>\n",
       "      <td>13</td>\n",
       "      <td>4</td>\n",
       "    </tr>\n",
       "    <tr>\n",
       "      <th>1</th>\n",
       "      <td>19</td>\n",
       "      <td>10</td>\n",
       "      <td>23</td>\n",
       "      <td>23</td>\n",
       "      <td>12</td>\n",
       "      <td>4</td>\n",
       "      <td>1</td>\n",
       "      <td>1</td>\n",
       "    </tr>\n",
       "  </tbody>\n",
       "</table>\n",
       "</div>"
      ],
      "text/plain": [
       "Age              (0, 10]  (10, 20]  (20, 30]  (30, 40]  (40, 50]  (50, 60]  \\\n",
       "Sex    Survived                                                              \n",
       "female 0              12        12        20         9        10         1   \n",
       "       1              19        34        61        46        21        13   \n",
       "male   0              14        59       126        77        43        24   \n",
       "       1              19        10        23        23        12         4   \n",
       "\n",
       "Age              (60, 70]  (70, 80]  \n",
       "Sex    Survived                      \n",
       "female 0                0         0  \n",
       "       1                3         0  \n",
       "male   0               13         4  \n",
       "       1                1         1  "
      ]
     },
     "execution_count": 7,
     "metadata": {},
     "output_type": "execute_result"
    }
   ],
   "source": [
    "mybins = pd.IntervalIndex.from_tuples([(0,10),(10,20),(20,30),(30,40),(40,50),(50,60),(60,70),(70,80)])\n",
    "train.groupby(['Sex', \n",
    "               'Survived', \n",
    "               pd.cut(x=train['Age'],\n",
    "                      bins=mybins)\n",
    "              ])\\\n",
    "      .size()\\\n",
    "      .unstack()"
   ]
  },
  {
   "cell_type": "markdown",
   "id": "6ee890b0",
   "metadata": {
    "papermill": {
     "duration": 0.026391,
     "end_time": "2022-03-25T04:52:14.652522",
     "exception": false,
     "start_time": "2022-03-25T04:52:14.626131",
     "status": "completed"
    },
    "tags": []
   },
   "source": [
    "Because there isn't an even number of each age to properly determine whether age played a huge factor into surviving or not, I placed their ages into buckets:"
   ]
  },
  {
   "cell_type": "code",
   "execution_count": 8,
   "id": "603fa433",
   "metadata": {
    "execution": {
     "iopub.execute_input": "2022-03-25T04:52:14.717232Z",
     "iopub.status.busy": "2022-03-25T04:52:14.714733Z",
     "iopub.status.idle": "2022-03-25T04:52:15.361876Z",
     "shell.execute_reply": "2022-03-25T04:52:15.361123Z",
     "shell.execute_reply.started": "2022-03-25T00:52:25.619316Z"
    },
    "papermill": {
     "duration": 0.683242,
     "end_time": "2022-03-25T04:52:15.362111",
     "exception": false,
     "start_time": "2022-03-25T04:52:14.678869",
     "status": "completed"
    },
    "tags": []
   },
   "outputs": [
    {
     "data": {
      "text/plain": [
       "<seaborn.axisgrid.FacetGrid at 0x7f14f24d8d10>"
      ]
     },
     "execution_count": 8,
     "metadata": {},
     "output_type": "execute_result"
    },
    {
     "data": {
      "image/png": "[encoded data removed]",
      "text/plain": [
       "<Figure size 771.875x360 with 2 Axes>"
      ]
     },
     "metadata": {
      "needs_background": "light"
     },
     "output_type": "display_data"
    }
   ],
   "source": [
    "train.groupby(['Sex',\n",
    "              pd.cut(x=train['Age'],\n",
    "                      bins=train['Age'].quantile([0,.25,.5,.75,1]),\n",
    "                      labels=['0-20','21-28','29-38','38-80'])\n",
    "              ],\\\n",
    "             )['Survived']\\\n",
    "    .value_counts(normalize=True)\\\n",
    "    .mul(100)\\\n",
    "    .rename('Percent')\\\n",
    "    .reset_index(level=1)\\\n",
    "    .reset_index(level=1)\\\n",
    "    .reset_index(level=0)\\\n",
    "    .pipe((sns.catplot,'data'), x='Age', y='Percent', hue='Survived', col='Sex', kind='bar')"
   ]
  },
  {
   "cell_type": "markdown",
   "id": "034f4b35",
   "metadata": {
    "papermill": {
     "duration": 0.028206,
     "end_time": "2022-03-25T04:52:15.419019",
     "exception": false,
     "start_time": "2022-03-25T04:52:15.390813",
     "status": "completed"
    },
    "tags": []
   },
   "source": [
    "Bucketing the ages is more meaningful than not bucketing them. There's more clarity in seeing the results with bucketed ages versus individual, several ages on the x-axis. There's still a clear indication that survivng (or not) increased or decreased with age."
   ]
  },
  {
   "cell_type": "code",
   "execution_count": 9,
   "id": "cdb3e0c2",
   "metadata": {
    "execution": {
     "iopub.execute_input": "2022-03-25T04:52:15.495444Z",
     "iopub.status.busy": "2022-03-25T04:52:15.494742Z",
     "iopub.status.idle": "2022-03-25T04:52:15.604956Z",
     "shell.execute_reply": "2022-03-25T04:52:15.605876Z",
     "shell.execute_reply.started": "2022-03-25T00:52:26.301007Z"
    },
    "papermill": {
     "duration": 0.158647,
     "end_time": "2022-03-25T04:52:15.606210",
     "exception": false,
     "start_time": "2022-03-25T04:52:15.447563",
     "status": "completed"
    },
    "tags": []
   },
   "outputs": [
    {
     "data": {
      "text/plain": [
       "([<matplotlib.patches.Wedge at 0x7f14efee8710>,\n",
       "  <matplotlib.patches.Wedge at 0x7f14efee8f50>,\n",
       "  <matplotlib.patches.Wedge at 0x7f14efef57d0>],\n",
       " [Text(-1.6288120254956846, -0.2635742506403942, '3rd class'),\n",
       "  Text(1.4571365927931532, -0.7741143003091732, '1st class'),\n",
       "  Text(0.9969395548015787, 1.3147667184987724, '2nd class')],\n",
       " [Text(-0.888442922997646, -0.14376777307657862, '55%'),\n",
       "  Text(0.7948017778871743, -0.42224416380500346, '24%'),\n",
       "  Text(0.5437852117099519, 0.7171454828175121, '21%')])"
      ]
     },
     "execution_count": 9,
     "metadata": {},
     "output_type": "execute_result"
    },
    {
     "data": {
      "image/png": "[encoded data removed]",
      "text/plain": [
       "<Figure size 432x288 with 1 Axes>"
      ]
     },
     "metadata": {},
     "output_type": "display_data"
    }
   ],
   "source": [
    "train.Pclass.value_counts()\\\n",
    "     .pipe((plt.pie, 'x'),\n",
    "           labels=['3rd class', '1st class', '2nd class'], \n",
    "           colors=sns.color_palette('muted'), \n",
    "           autopct='%.0f%%',\n",
    "           startangle=90, \n",
    "           radius=1.5)"
   ]
  },
  {
   "cell_type": "markdown",
   "id": "9b1f51cd",
   "metadata": {
    "papermill": {
     "duration": 0.038861,
     "end_time": "2022-03-25T04:52:15.700108",
     "exception": false,
     "start_time": "2022-03-25T04:52:15.661247",
     "status": "completed"
    },
    "tags": []
   },
   "source": [
    "More than half the passengers' socio-economic statuses were considered 3rd class. Many of them had the goal of creating a new life in America – the final destination of the RMS Titanic."
   ]
  },
  {
   "cell_type": "code",
   "execution_count": 10,
   "id": "304b0a05",
   "metadata": {
    "execution": {
     "iopub.execute_input": "2022-03-25T04:52:15.767738Z",
     "iopub.status.busy": "2022-03-25T04:52:15.767017Z",
     "iopub.status.idle": "2022-03-25T04:52:16.115075Z",
     "shell.execute_reply": "2022-03-25T04:52:16.115656Z",
     "shell.execute_reply.started": "2022-03-25T00:52:26.455349Z"
    },
    "papermill": {
     "duration": 0.386083,
     "end_time": "2022-03-25T04:52:16.115867",
     "exception": false,
     "start_time": "2022-03-25T04:52:15.729784",
     "status": "completed"
    },
    "tags": []
   },
   "outputs": [
    {
     "data": {
      "text/plain": [
       "<seaborn.axisgrid.FacetGrid at 0x7f14eff58a90>"
      ]
     },
     "execution_count": 10,
     "metadata": {},
     "output_type": "execute_result"
    },
    {
     "data": {
      "image/png": "[encoded data removed]",
      "text/plain": [
       "<Figure size 411.875x360 with 1 Axes>"
      ]
     },
     "metadata": {
      "needs_background": "light"
     },
     "output_type": "display_data"
    }
   ],
   "source": [
    "train.groupby(['Pclass'])['Survived']\\\n",
    "    .value_counts(normalize=True)\\\n",
    "    .mul(100)\\\n",
    "    .to_frame()\\\n",
    "    .rename(columns={'Survived': 'Survived_norm'})\\\n",
    "    .sort_values(by=['Pclass', 'Survived'])\\\n",
    "    .reset_index()\\\n",
    "    .pipe((sns.catplot, 'data'), x='Pclass', y='Survived_norm', hue='Survived', kind='bar')"
   ]
  },
  {
   "cell_type": "markdown",
   "id": "60a87545",
   "metadata": {
    "papermill": {
     "duration": 0.031146,
     "end_time": "2022-03-25T04:52:16.178655",
     "exception": false,
     "start_time": "2022-03-25T04:52:16.147509",
     "status": "completed"
    },
    "tags": []
   },
   "source": [
    "Even after transforming the total number of passengers in each SES to a common scale, it's not surprising that it's still the case that 3rd class passengers survived the least out of the other classes, and that survival was less common the lower SES a passenger was. \n",
    "\n",
    "3rd class passengers included a wide range of nationalities, according to [this website](http://www.icyousee.org/titanic.html#nation). As mentioned earlier, many 3rd class passengers were immigrants hoping to make a new life in America. Like many of them on the Titanic, I was also an immigrant to America. I didn't understand English well. As the crew spoke mostly English, it's very possible that language barrier could've had a play in preventing 3rd class passengers from escaping safely. Titanic's lifeboats were also located at its very highest deck, which 1st class passengers were closest to. As a result, being a 3rd class immigrant passenger that did not understand English aboard the Titanic likely meant both a scary and extremely confusing ordeal."
   ]
  },
  {
   "cell_type": "code",
   "execution_count": 11,
   "id": "6ba65093",
   "metadata": {
    "execution": {
     "iopub.execute_input": "2022-03-25T04:52:16.248190Z",
     "iopub.status.busy": "2022-03-25T04:52:16.247458Z",
     "iopub.status.idle": "2022-03-25T04:52:16.254746Z",
     "shell.execute_reply": "2022-03-25T04:52:16.255348Z",
     "shell.execute_reply.started": "2022-03-25T00:52:26.833630Z"
    },
    "papermill": {
     "duration": 0.04302,
     "end_time": "2022-03-25T04:52:16.255565",
     "exception": false,
     "start_time": "2022-03-25T04:52:16.212545",
     "status": "completed"
    },
    "tags": []
   },
   "outputs": [
    {
     "data": {
      "text/plain": [
       "B96 B98        4\n",
       "G6             4\n",
       "C23 C25 C27    4\n",
       "C22 C26        3\n",
       "F33            3\n",
       "              ..\n",
       "E34            1\n",
       "C7             1\n",
       "C54            1\n",
       "E36            1\n",
       "C148           1\n",
       "Name: Cabin, Length: 147, dtype: int64"
      ]
     },
     "execution_count": 11,
     "metadata": {},
     "output_type": "execute_result"
    }
   ],
   "source": [
    "train.Cabin.value_counts()"
   ]
  },
  {
   "cell_type": "markdown",
   "id": "3da171a0",
   "metadata": {
    "papermill": {
     "duration": 0.03039,
     "end_time": "2022-03-25T04:52:16.317574",
     "exception": false,
     "start_time": "2022-03-25T04:52:16.287184",
     "status": "completed"
    },
    "tags": []
   },
   "source": [
    "Using the 'Cabin' column, I'll get to see if cabin location really did have an impact on whether a person survived or not. Another thing to consider is whether passengers were in or near their cabins when the Titanic started sinking. According to [this website](https://americanhistory.si.edu/collections/search/object/nmah_1416178), the Titanic hit the iceberg at 11:40 PM, and completely sank at 2:20 AM. Using that information, I'm going to conclude that passengers were in their cabins sleeping, or getting ready to sleep."
   ]
  },
  {
   "cell_type": "code",
   "execution_count": 12,
   "id": "b86c0aee",
   "metadata": {
    "execution": {
     "iopub.execute_input": "2022-03-25T04:52:16.382515Z",
     "iopub.status.busy": "2022-03-25T04:52:16.381869Z",
     "iopub.status.idle": "2022-03-25T04:52:16.390052Z",
     "shell.execute_reply": "2022-03-25T04:52:16.390578Z",
     "shell.execute_reply.started": "2022-03-25T00:52:26.845494Z"
    },
    "papermill": {
     "duration": 0.042271,
     "end_time": "2022-03-25T04:52:16.390773",
     "exception": false,
     "start_time": "2022-03-25T04:52:16.348502",
     "status": "completed"
    },
    "tags": []
   },
   "outputs": [
    {
     "data": {
      "text/plain": [
       "PassengerId      0\n",
       "Survived         0\n",
       "Pclass           0\n",
       "Name             0\n",
       "Sex              0\n",
       "Age            177\n",
       "SibSp            0\n",
       "Parch            0\n",
       "Ticket           0\n",
       "Fare             0\n",
       "Cabin          687\n",
       "Embarked         2\n",
       "dtype: int64"
      ]
     },
     "execution_count": 12,
     "metadata": {},
     "output_type": "execute_result"
    }
   ],
   "source": [
    "train.isna().sum()"
   ]
  },
  {
   "cell_type": "markdown",
   "id": "8985c8b0",
   "metadata": {
    "papermill": {
     "duration": 0.031183,
     "end_time": "2022-03-25T04:52:16.453128",
     "exception": false,
     "start_time": "2022-03-25T04:52:16.421945",
     "status": "completed"
    },
    "tags": []
   },
   "source": [
    "Unfortunately, 77% of the 'Cabin' column is null, so it may not be the best feature to select when creating the model."
   ]
  },
  {
   "cell_type": "markdown",
   "id": "fe7aedbf",
   "metadata": {
    "papermill": {
     "duration": 0.032106,
     "end_time": "2022-03-25T04:52:16.518176",
     "exception": false,
     "start_time": "2022-03-25T04:52:16.486070",
     "status": "completed"
    },
    "tags": []
   },
   "source": [
    "I'd like to determine whether it might be more accurate to use fare as an indicator for survival rather than socio-economic status. To do this, I plotted the Pearson's correlation coefficients of each numerical variable:"
   ]
  },
  {
   "cell_type": "code",
   "execution_count": 13,
   "id": "a7b52355",
   "metadata": {
    "execution": {
     "iopub.execute_input": "2022-03-25T04:52:16.593425Z",
     "iopub.status.busy": "2022-03-25T04:52:16.592393Z",
     "iopub.status.idle": "2022-03-25T04:52:16.955736Z",
     "shell.execute_reply": "2022-03-25T04:52:16.956207Z",
     "shell.execute_reply.started": "2022-03-25T00:52:26.860759Z"
    },
    "papermill": {
     "duration": 0.405175,
     "end_time": "2022-03-25T04:52:16.956451",
     "exception": false,
     "start_time": "2022-03-25T04:52:16.551276",
     "status": "completed"
    },
    "tags": []
   },
   "outputs": [
    {
     "data": {
      "text/plain": [
       "<AxesSubplot:>"
      ]
     },
     "execution_count": 13,
     "metadata": {},
     "output_type": "execute_result"
    },
    {
     "data": {
      "image/png": "[encoded data removed]",
      "text/plain": [
       "<Figure size 432x288 with 2 Axes>"
      ]
     },
     "metadata": {
      "needs_background": "light"
     },
     "output_type": "display_data"
    }
   ],
   "source": [
    "train.insert(len(train.columns)-1, 'Survived', train.pop('Survived'))\n",
    "train.corr(method='pearson')\\\n",
    "     .pipe((sns.heatmap, 'data'), annot=True, fmt='.2f', cmap='mako', linecolor='black', mask=np.triu(np.ones_like(train.corr(method='pearson'), dtype=bool)))"
   ]
  },
  {
   "cell_type": "markdown",
   "id": "7d86391f",
   "metadata": {
    "papermill": {
     "duration": 0.032785,
     "end_time": "2022-03-25T04:52:17.022687",
     "exception": false,
     "start_time": "2022-03-25T04:52:16.989902",
     "status": "completed"
    },
    "tags": []
   },
   "source": [
    "According to the heatmap above, the Pclass and Fare columns seemed to have a higher correlation to Survived than any of the other columns. Between Pclass (-0.34) and Fare (0.26), Pclass has a better correlation to Survived than Fare. Pclass has less outliers than Fare, probably because a person's Pclass could be indicative of their Fare (affording something expensive like ocean liner tickets could likely mean being able to also afford other generally expensive things), therefore being a 'bucket' for Fare. Pearson's correlation coefficient is sensitive to outliers, which Pclass has less of in comparison to Fare due to the assumption that Pclass can be considered a discretized transformation of Fare. Because of this, Fare will be transformed into a more 'clean' input for the model by having its outliers removed. "
   ]
  },
  {
   "cell_type": "code",
   "execution_count": 14,
   "id": "a5040c5f",
   "metadata": {
    "execution": {
     "iopub.execute_input": "2022-03-25T04:52:17.095693Z",
     "iopub.status.busy": "2022-03-25T04:52:17.094670Z",
     "iopub.status.idle": "2022-03-25T04:52:17.110821Z",
     "shell.execute_reply": "2022-03-25T04:52:17.111292Z",
     "shell.execute_reply.started": "2022-03-25T00:52:27.244628Z"
    },
    "papermill": {
     "duration": 0.054337,
     "end_time": "2022-03-25T04:52:17.111508",
     "exception": false,
     "start_time": "2022-03-25T04:52:17.057171",
     "status": "completed"
    },
    "tags": []
   },
   "outputs": [
    {
     "data": {
      "text/html": [
       "<div>\n",
       "<style scoped>\n",
       "    .dataframe tbody tr th:only-of-type {\n",
       "        vertical-align: middle;\n",
       "    }\n",
       "\n",
       "    .dataframe tbody tr th {\n",
       "        vertical-align: top;\n",
       "    }\n",
       "\n",
       "    .dataframe thead th {\n",
       "        text-align: right;\n",
       "    }\n",
       "</style>\n",
       "<table border=\"1\" class=\"dataframe\">\n",
       "  <thead>\n",
       "    <tr style=\"text-align: right;\">\n",
       "      <th></th>\n",
       "      <th>Parch</th>\n",
       "      <th>SibSp</th>\n",
       "    </tr>\n",
       "  </thead>\n",
       "  <tbody>\n",
       "    <tr>\n",
       "      <th>0</th>\n",
       "      <td>678</td>\n",
       "      <td>608</td>\n",
       "    </tr>\n",
       "    <tr>\n",
       "      <th>1</th>\n",
       "      <td>118</td>\n",
       "      <td>209</td>\n",
       "    </tr>\n",
       "    <tr>\n",
       "      <th>2</th>\n",
       "      <td>80</td>\n",
       "      <td>28</td>\n",
       "    </tr>\n",
       "    <tr>\n",
       "      <th>3</th>\n",
       "      <td>5</td>\n",
       "      <td>16</td>\n",
       "    </tr>\n",
       "    <tr>\n",
       "      <th>4</th>\n",
       "      <td>4</td>\n",
       "      <td>18</td>\n",
       "    </tr>\n",
       "    <tr>\n",
       "      <th>5</th>\n",
       "      <td>5</td>\n",
       "      <td>5</td>\n",
       "    </tr>\n",
       "    <tr>\n",
       "      <th>6</th>\n",
       "      <td>1</td>\n",
       "      <td>0</td>\n",
       "    </tr>\n",
       "    <tr>\n",
       "      <th>8</th>\n",
       "      <td>0</td>\n",
       "      <td>7</td>\n",
       "    </tr>\n",
       "  </tbody>\n",
       "</table>\n",
       "</div>"
      ],
      "text/plain": [
       "   Parch  SibSp\n",
       "0    678    608\n",
       "1    118    209\n",
       "2     80     28\n",
       "3      5     16\n",
       "4      4     18\n",
       "5      5      5\n",
       "6      1      0\n",
       "8      0      7"
      ]
     },
     "execution_count": 14,
     "metadata": {},
     "output_type": "execute_result"
    }
   ],
   "source": [
    "pd.concat([train['Parch'].value_counts(), train['SibSp'].value_counts()], axis=1)\\\n",
    "  .fillna(0)\\\n",
    "  .astype(int)"
   ]
  },
  {
   "cell_type": "code",
   "execution_count": 15,
   "id": "aa248da2",
   "metadata": {
    "execution": {
     "iopub.execute_input": "2022-03-25T04:52:17.183292Z",
     "iopub.status.busy": "2022-03-25T04:52:17.182256Z",
     "iopub.status.idle": "2022-03-25T04:52:17.210167Z",
     "shell.execute_reply": "2022-03-25T04:52:17.210838Z",
     "shell.execute_reply.started": "2022-03-25T01:02:57.415763Z"
    },
    "papermill": {
     "duration": 0.065927,
     "end_time": "2022-03-25T04:52:17.211058",
     "exception": false,
     "start_time": "2022-03-25T04:52:17.145131",
     "status": "completed"
    },
    "tags": []
   },
   "outputs": [
    {
     "data": {
      "text/html": [
       "<div>\n",
       "<style scoped>\n",
       "    .dataframe tbody tr th:only-of-type {\n",
       "        vertical-align: middle;\n",
       "    }\n",
       "\n",
       "    .dataframe tbody tr th {\n",
       "        vertical-align: top;\n",
       "    }\n",
       "\n",
       "    .dataframe thead th {\n",
       "        text-align: right;\n",
       "    }\n",
       "</style>\n",
       "<table border=\"1\" class=\"dataframe\">\n",
       "  <thead>\n",
       "    <tr style=\"text-align: right;\">\n",
       "      <th></th>\n",
       "      <th></th>\n",
       "      <th>Parch_count</th>\n",
       "      <th>SibSp_count</th>\n",
       "    </tr>\n",
       "    <tr>\n",
       "      <th></th>\n",
       "      <th>Survived</th>\n",
       "      <th></th>\n",
       "      <th></th>\n",
       "    </tr>\n",
       "  </thead>\n",
       "  <tbody>\n",
       "    <tr>\n",
       "      <th rowspan=\"2\" valign=\"top\">0</th>\n",
       "      <th>0</th>\n",
       "      <td>445.0</td>\n",
       "      <td>398.0</td>\n",
       "    </tr>\n",
       "    <tr>\n",
       "      <th>1</th>\n",
       "      <td>233.0</td>\n",
       "      <td>210.0</td>\n",
       "    </tr>\n",
       "    <tr>\n",
       "      <th rowspan=\"2\" valign=\"top\">1</th>\n",
       "      <th>0</th>\n",
       "      <td>53.0</td>\n",
       "      <td>97.0</td>\n",
       "    </tr>\n",
       "    <tr>\n",
       "      <th>1</th>\n",
       "      <td>65.0</td>\n",
       "      <td>112.0</td>\n",
       "    </tr>\n",
       "    <tr>\n",
       "      <th rowspan=\"2\" valign=\"top\">2</th>\n",
       "      <th>0</th>\n",
       "      <td>40.0</td>\n",
       "      <td>15.0</td>\n",
       "    </tr>\n",
       "    <tr>\n",
       "      <th>1</th>\n",
       "      <td>40.0</td>\n",
       "      <td>13.0</td>\n",
       "    </tr>\n",
       "    <tr>\n",
       "      <th rowspan=\"2\" valign=\"top\">3</th>\n",
       "      <th>0</th>\n",
       "      <td>2.0</td>\n",
       "      <td>12.0</td>\n",
       "    </tr>\n",
       "    <tr>\n",
       "      <th>1</th>\n",
       "      <td>3.0</td>\n",
       "      <td>4.0</td>\n",
       "    </tr>\n",
       "    <tr>\n",
       "      <th rowspan=\"2\" valign=\"top\">4</th>\n",
       "      <th>0</th>\n",
       "      <td>4.0</td>\n",
       "      <td>15.0</td>\n",
       "    </tr>\n",
       "    <tr>\n",
       "      <th>1</th>\n",
       "      <td>0.0</td>\n",
       "      <td>3.0</td>\n",
       "    </tr>\n",
       "    <tr>\n",
       "      <th rowspan=\"2\" valign=\"top\">5</th>\n",
       "      <th>0</th>\n",
       "      <td>4.0</td>\n",
       "      <td>5.0</td>\n",
       "    </tr>\n",
       "    <tr>\n",
       "      <th>1</th>\n",
       "      <td>1.0</td>\n",
       "      <td>0.0</td>\n",
       "    </tr>\n",
       "    <tr>\n",
       "      <th>6</th>\n",
       "      <th>0</th>\n",
       "      <td>1.0</td>\n",
       "      <td>0.0</td>\n",
       "    </tr>\n",
       "    <tr>\n",
       "      <th>8</th>\n",
       "      <th>0</th>\n",
       "      <td>0.0</td>\n",
       "      <td>7.0</td>\n",
       "    </tr>\n",
       "  </tbody>\n",
       "</table>\n",
       "</div>"
      ],
      "text/plain": [
       "            Parch_count  SibSp_count\n",
       "  Survived                          \n",
       "0 0               445.0        398.0\n",
       "  1               233.0        210.0\n",
       "1 0                53.0         97.0\n",
       "  1                65.0        112.0\n",
       "2 0                40.0         15.0\n",
       "  1                40.0         13.0\n",
       "3 0                 2.0         12.0\n",
       "  1                 3.0          4.0\n",
       "4 0                 4.0         15.0\n",
       "  1                 0.0          3.0\n",
       "5 0                 4.0          5.0\n",
       "  1                 1.0          0.0\n",
       "6 0                 1.0          0.0\n",
       "8 0                 0.0          7.0"
      ]
     },
     "execution_count": 15,
     "metadata": {},
     "output_type": "execute_result"
    }
   ],
   "source": [
    "pd.concat([train[['Parch', 'Survived']].value_counts(),\n",
    "          train[['SibSp', 'Survived']].value_counts()],\n",
    "          axis=1)\\\n",
    "  .fillna(0)\\\n",
    "  .rename(columns={0: \"Parch_count\", 1: \"SibSp_count\"})\\\n"
   ]
  },
  {
   "cell_type": "markdown",
   "id": "6e8e6aa1",
   "metadata": {
    "papermill": {
     "duration": 0.034182,
     "end_time": "2022-03-25T04:52:17.280802",
     "exception": false,
     "start_time": "2022-03-25T04:52:17.246620",
     "status": "completed"
    },
    "tags": []
   },
   "source": [
    "Another way to do feature selection for a regression problem like this is to apply univariate (data with one dependent variable or 'target') statistical tests. Here, I'll be using Scikit-learn's SelectKBest to select the top 3 categorical variables. I chose 3 for no reason. My intention is to tune this number to the one that will give me the best accuracy score. Pclass, Sex, Cabin, Parch"
   ]
  }
 ],
 "metadata": {
  "kernelspec": {
   "display_name": "Python 3",
   "language": "python",
   "name": "python3"
  },
  "language_info": {
   "codemirror_mode": {
    "name": "ipython",
    "version": 3
   },
   "file_extension": ".py",
   "mimetype": "text/x-python",
   "name": "python",
   "nbconvert_exporter": "python",
   "pygments_lexer": "ipython3",
   "version": "3.7.12"
  },
  "papermill": {
   "default_parameters": {},
   "duration": 15.942643,
   "end_time": "2022-03-25T04:52:18.429627",
   "environment_variables": {},
   "exception": null,
   "input_path": "__notebook__.ipynb",
   "output_path": "__notebook__.ipynb",
   "parameters": {},
   "start_time": "2022-03-25T04:52:02.486984",
   "version": "2.3.3"
  }
 },
 "nbformat": 4,
 "nbformat_minor": 5
}
