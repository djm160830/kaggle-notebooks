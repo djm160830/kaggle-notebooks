{
 "cells": [
  {
   "cell_type": "code",
   "execution_count": 1,
   "id": "70d12aa2",
   "metadata": {
    "execution": {
     "iopub.execute_input": "2022-03-13T04:54:04.241689Z",
     "iopub.status.busy": "2022-03-13T04:54:04.240037Z",
     "iopub.status.idle": "2022-03-13T04:54:05.797213Z",
     "shell.execute_reply": "2022-03-13T04:54:05.796094Z",
     "shell.execute_reply.started": "2022-03-13T03:41:09.084193Z"
    },
    "papermill": {
     "duration": 1.581543,
     "end_time": "2022-03-13T04:54:05.797410",
     "exception": false,
     "start_time": "2022-03-13T04:54:04.215867",
     "status": "completed"
    },
    "tags": []
   },
   "outputs": [
    {
     "data": {
      "text/plain": [
       "Index(['PassengerId', 'Survived', 'Pclass', 'Name', 'Sex', 'Age', 'SibSp',\n",
       "       'Parch', 'Ticket', 'Fare', 'Cabin', 'Embarked'],\n",
       "      dtype='object')"
      ]
     },
     "execution_count": 1,
     "metadata": {},
     "output_type": "execute_result"
    }
   ],
   "source": [
    "import numpy as np\n",
    "import pandas as pd\n",
    "import seaborn as sns\n",
    "import matplotlib.pyplot as plt\n",
    "\n",
    "# EDA\n",
    "train = pd.read_csv(\"/kaggle/input/titanic/train.csv\")\n",
    "#train.head\n",
    "train.info\n",
    "# train.shape\n",
    "# train.isnull().sum()\n",
    "# train['Embarked'].value_counts()\n",
    "train.columns"
   ]
  },
  {
   "cell_type": "code",
   "execution_count": 2,
   "id": "17e03057",
   "metadata": {
    "execution": {
     "iopub.execute_input": "2022-03-13T04:54:05.845041Z",
     "iopub.status.busy": "2022-03-13T04:54:05.844112Z",
     "iopub.status.idle": "2022-03-13T04:54:05.854888Z",
     "shell.execute_reply": "2022-03-13T04:54:05.855431Z",
     "shell.execute_reply.started": "2022-03-13T03:41:10.257697Z"
    },
    "papermill": {
     "duration": 0.039047,
     "end_time": "2022-03-13T04:54:05.855625",
     "exception": false,
     "start_time": "2022-03-13T04:54:05.816578",
     "status": "completed"
    },
    "tags": []
   },
   "outputs": [
    {
     "data": {
      "text/plain": [
       "0    549\n",
       "1    342\n",
       "Name: Survived, dtype: int64"
      ]
     },
     "execution_count": 2,
     "metadata": {},
     "output_type": "execute_result"
    }
   ],
   "source": [
    "train['Survived'].value_counts()"
   ]
  },
  {
   "cell_type": "markdown",
   "id": "dbaadad0",
   "metadata": {
    "papermill": {
     "duration": 0.017536,
     "end_time": "2022-03-13T04:54:05.890572",
     "exception": false,
     "start_time": "2022-03-13T04:54:05.873036",
     "status": "completed"
    },
    "tags": []
   },
   "source": [
    "549 passengers died, and 342 passengers survived. Of those survivng passengers, what characteristics did they have that may have contributed to their survival? "
   ]
  },
  {
   "cell_type": "code",
   "execution_count": 3,
   "id": "f368627b",
   "metadata": {
    "execution": {
     "iopub.execute_input": "2022-03-13T04:54:05.937527Z",
     "iopub.status.busy": "2022-03-13T04:54:05.936465Z",
     "iopub.status.idle": "2022-03-13T04:54:05.942148Z",
     "shell.execute_reply": "2022-03-13T04:54:05.941524Z",
     "shell.execute_reply.started": "2022-03-13T03:41:10.273910Z"
    },
    "papermill": {
     "duration": 0.032708,
     "end_time": "2022-03-13T04:54:05.942322",
     "exception": false,
     "start_time": "2022-03-13T04:54:05.909614",
     "status": "completed"
    },
    "tags": []
   },
   "outputs": [
    {
     "data": {
      "text/plain": [
       "male      0.647587\n",
       "female    0.352413\n",
       "Name: Sex, dtype: float64"
      ]
     },
     "execution_count": 3,
     "metadata": {},
     "output_type": "execute_result"
    }
   ],
   "source": [
    "train['Sex'].value_counts(normalize=True)"
   ]
  },
  {
   "cell_type": "markdown",
   "id": "47194f4a",
   "metadata": {
    "papermill": {
     "duration": 0.022961,
     "end_time": "2022-03-13T04:54:05.984266",
     "exception": false,
     "start_time": "2022-03-13T04:54:05.961305",
     "status": "completed"
    },
    "tags": []
   },
   "source": [
    "64% of the passengers are male, and 35% of the passengers are female. Because there are more male passengers, it can be mistakenly inferred that being male came with a higher chance of surviving/not surviving. We wouldn't necessarily know if the same could be said for female passengers, as there aren't an equal amount of them and their results to compare to males, and vice-versa."
   ]
  },
  {
   "cell_type": "code",
   "execution_count": 4,
   "id": "e7112a72",
   "metadata": {
    "execution": {
     "iopub.execute_input": "2022-03-13T04:54:06.035242Z",
     "iopub.status.busy": "2022-03-13T04:54:06.033711Z",
     "iopub.status.idle": "2022-03-13T04:54:06.064164Z",
     "shell.execute_reply": "2022-03-13T04:54:06.064731Z",
     "shell.execute_reply.started": "2022-03-13T03:41:10.288954Z"
    },
    "papermill": {
     "duration": 0.057478,
     "end_time": "2022-03-13T04:54:06.064963",
     "exception": false,
     "start_time": "2022-03-13T04:54:06.007485",
     "status": "completed"
    },
    "tags": []
   },
   "outputs": [
    {
     "name": "stdout",
     "output_type": "stream",
     "text": [
      "                 fates\n",
      "Sex    Survived       \n",
      "female 0            81\n",
      "       1           233\n",
      "male   0           468\n",
      "       1           109\n"
     ]
    }
   ],
   "source": [
    "my_agg=(train\n",
    " .groupby(['Sex','Survived'])\n",
    " .agg(\n",
    "     fates=pd.NamedAgg('Survived', 'count')))\n",
    "print(my_agg)"
   ]
  },
  {
   "cell_type": "markdown",
   "id": "6cbb8311",
   "metadata": {
    "papermill": {
     "duration": 0.01816,
     "end_time": "2022-03-13T04:54:06.103755",
     "exception": false,
     "start_time": "2022-03-13T04:54:06.085595",
     "status": "completed"
    },
    "tags": []
   },
   "source": [
    "More females survived than died in their group, and more males died than survived in their group. What other factors might have played into this?"
   ]
  },
  {
   "cell_type": "code",
   "execution_count": 5,
   "id": "064b893d",
   "metadata": {
    "execution": {
     "iopub.execute_input": "2022-03-13T04:54:06.153224Z",
     "iopub.status.busy": "2022-03-13T04:54:06.151470Z",
     "iopub.status.idle": "2022-03-13T04:54:06.163625Z",
     "shell.execute_reply": "2022-03-13T04:54:06.163011Z",
     "shell.execute_reply.started": "2022-03-13T03:41:10.316917Z"
    },
    "papermill": {
     "duration": 0.040347,
     "end_time": "2022-03-13T04:54:06.163774",
     "exception": false,
     "start_time": "2022-03-13T04:54:06.123427",
     "status": "completed"
    },
    "tags": []
   },
   "outputs": [
    {
     "data": {
      "text/plain": [
       "count    714.000000\n",
       "mean      29.699118\n",
       "std       14.526497\n",
       "min        0.420000\n",
       "25%       20.125000\n",
       "50%       28.000000\n",
       "75%       38.000000\n",
       "max       80.000000\n",
       "Name: Age, dtype: float64"
      ]
     },
     "execution_count": 5,
     "metadata": {},
     "output_type": "execute_result"
    }
   ],
   "source": [
    "train['Age'].describe()"
   ]
  },
  {
   "cell_type": "markdown",
   "id": "8d97f3aa",
   "metadata": {
    "papermill": {
     "duration": 0.025553,
     "end_time": "2022-03-13T04:54:06.209076",
     "exception": false,
     "start_time": "2022-03-13T04:54:06.183523",
     "status": "completed"
    },
    "tags": []
   },
   "source": [
    "It looks as if most of the passengers (75% of them) are age 38 and below."
   ]
  },
  {
   "cell_type": "code",
   "execution_count": 6,
   "id": "31c610d9",
   "metadata": {
    "execution": {
     "iopub.execute_input": "2022-03-13T04:54:06.260336Z",
     "iopub.status.busy": "2022-03-13T04:54:06.258518Z",
     "iopub.status.idle": "2022-03-13T04:54:06.305409Z",
     "shell.execute_reply": "2022-03-13T04:54:06.306019Z",
     "shell.execute_reply.started": "2022-03-13T03:41:10.330962Z"
    },
    "papermill": {
     "duration": 0.076763,
     "end_time": "2022-03-13T04:54:06.306221",
     "exception": false,
     "start_time": "2022-03-13T04:54:06.229458",
     "status": "completed"
    },
    "tags": []
   },
   "outputs": [
    {
     "data": {
      "text/html": [
       "<div>\n",
       "<style scoped>\n",
       "    .dataframe tbody tr th:only-of-type {\n",
       "        vertical-align: middle;\n",
       "    }\n",
       "\n",
       "    .dataframe tbody tr th {\n",
       "        vertical-align: top;\n",
       "    }\n",
       "\n",
       "    .dataframe thead th {\n",
       "        text-align: right;\n",
       "    }\n",
       "</style>\n",
       "<table border=\"1\" class=\"dataframe\">\n",
       "  <thead>\n",
       "    <tr style=\"text-align: right;\">\n",
       "      <th></th>\n",
       "      <th>Age</th>\n",
       "      <th>(0, 10]</th>\n",
       "      <th>(10, 20]</th>\n",
       "      <th>(20, 30]</th>\n",
       "      <th>(30, 40]</th>\n",
       "      <th>(40, 50]</th>\n",
       "      <th>(50, 60]</th>\n",
       "      <th>(60, 70]</th>\n",
       "      <th>(70, 80]</th>\n",
       "    </tr>\n",
       "    <tr>\n",
       "      <th>Sex</th>\n",
       "      <th>Survived</th>\n",
       "      <th></th>\n",
       "      <th></th>\n",
       "      <th></th>\n",
       "      <th></th>\n",
       "      <th></th>\n",
       "      <th></th>\n",
       "      <th></th>\n",
       "      <th></th>\n",
       "    </tr>\n",
       "  </thead>\n",
       "  <tbody>\n",
       "    <tr>\n",
       "      <th rowspan=\"2\" valign=\"top\">female</th>\n",
       "      <th>0</th>\n",
       "      <td>12</td>\n",
       "      <td>12</td>\n",
       "      <td>20</td>\n",
       "      <td>9</td>\n",
       "      <td>10</td>\n",
       "      <td>1</td>\n",
       "      <td>0</td>\n",
       "      <td>0</td>\n",
       "    </tr>\n",
       "    <tr>\n",
       "      <th>1</th>\n",
       "      <td>19</td>\n",
       "      <td>34</td>\n",
       "      <td>61</td>\n",
       "      <td>46</td>\n",
       "      <td>21</td>\n",
       "      <td>13</td>\n",
       "      <td>3</td>\n",
       "      <td>0</td>\n",
       "    </tr>\n",
       "    <tr>\n",
       "      <th rowspan=\"2\" valign=\"top\">male</th>\n",
       "      <th>0</th>\n",
       "      <td>14</td>\n",
       "      <td>59</td>\n",
       "      <td>126</td>\n",
       "      <td>77</td>\n",
       "      <td>43</td>\n",
       "      <td>24</td>\n",
       "      <td>13</td>\n",
       "      <td>4</td>\n",
       "    </tr>\n",
       "    <tr>\n",
       "      <th>1</th>\n",
       "      <td>19</td>\n",
       "      <td>10</td>\n",
       "      <td>23</td>\n",
       "      <td>23</td>\n",
       "      <td>12</td>\n",
       "      <td>4</td>\n",
       "      <td>1</td>\n",
       "      <td>1</td>\n",
       "    </tr>\n",
       "  </tbody>\n",
       "</table>\n",
       "</div>"
      ],
      "text/plain": [
       "Age              (0, 10]  (10, 20]  (20, 30]  (30, 40]  (40, 50]  (50, 60]  \\\n",
       "Sex    Survived                                                              \n",
       "female 0              12        12        20         9        10         1   \n",
       "       1              19        34        61        46        21        13   \n",
       "male   0              14        59       126        77        43        24   \n",
       "       1              19        10        23        23        12         4   \n",
       "\n",
       "Age              (60, 70]  (70, 80]  \n",
       "Sex    Survived                      \n",
       "female 0                0         0  \n",
       "       1                3         0  \n",
       "male   0               13         4  \n",
       "       1                1         1  "
      ]
     },
     "execution_count": 6,
     "metadata": {},
     "output_type": "execute_result"
    }
   ],
   "source": [
    "mybins = pd.IntervalIndex.from_tuples([(0,10),(10,20),(20,30),(30,40),(40,50),(50,60),(60,70),(70,80)])\n",
    "train.groupby(['Sex', \n",
    "               'Survived', \n",
    "               pd.cut(x=train['Age'],\n",
    "                      bins=mybins)\n",
    "              ])\\\n",
    "      .size()\\\n",
    "      .unstack()"
   ]
  },
  {
   "cell_type": "markdown",
   "id": "f0a77bc6",
   "metadata": {
    "papermill": {
     "duration": 0.018217,
     "end_time": "2022-03-13T04:54:06.344190",
     "exception": false,
     "start_time": "2022-03-13T04:54:06.325973",
     "status": "completed"
    },
    "tags": []
   },
   "source": [
    "Because there isn't an even number of each age to properly determine whether age played a huge factor into surviving or not, I placed their ages into buckets:"
   ]
  },
  {
   "cell_type": "code",
   "execution_count": 7,
   "id": "382267ff",
   "metadata": {
    "execution": {
     "iopub.execute_input": "2022-03-13T04:54:06.387531Z",
     "iopub.status.busy": "2022-03-13T04:54:06.386646Z",
     "iopub.status.idle": "2022-03-13T04:54:07.177610Z",
     "shell.execute_reply": "2022-03-13T04:54:07.176725Z",
     "shell.execute_reply.started": "2022-03-13T03:50:20.765390Z"
    },
    "papermill": {
     "duration": 0.813042,
     "end_time": "2022-03-13T04:54:07.177777",
     "exception": false,
     "start_time": "2022-03-13T04:54:06.364735",
     "status": "completed"
    },
    "tags": []
   },
   "outputs": [
    {
     "data": {
      "text/plain": [
       "<seaborn.axisgrid.FacetGrid at 0x7f92fb87dc50>"
      ]
     },
     "execution_count": 7,
     "metadata": {},
     "output_type": "execute_result"
    },
    {
     "data": {
      "image/png": "[encoded data removed]",
      "text/plain": [
       "<Figure size 771.875x360 with 2 Axes>"
      ]
     },
     "metadata": {
      "needs_background": "light"
     },
     "output_type": "display_data"
    }
   ],
   "source": [
    "train.groupby(['Sex',\n",
    "              pd.cut(x=train['Age'],\n",
    "                      bins=train['Age'].quantile([0,.25,.5,.75,1]),\n",
    "                      labels=['0-20','21-28','29-38','38-80'])\n",
    "              ],\\\n",
    "             )['Survived']\\\n",
    "    .value_counts(normalize=True)\\\n",
    "    .mul(100)\\\n",
    "    .rename('Percent')\\\n",
    "    .reset_index(level=1)\\\n",
    "    .reset_index(level=1)\\\n",
    "    .reset_index(level=0)\\\n",
    "    .pipe((sns.catplot,'data'), x='Age', y='Percent', hue='Survived', col='Sex', kind='bar')"
   ]
  },
  {
   "cell_type": "markdown",
   "id": "3c6c6a88",
   "metadata": {
    "papermill": {
     "duration": 0.021195,
     "end_time": "2022-03-13T04:54:07.218872",
     "exception": false,
     "start_time": "2022-03-13T04:54:07.197677",
     "status": "completed"
    },
    "tags": []
   },
   "source": [
    "Bucketing the ages is more meaningful than not bucketing them. There's more clarity in seeing the results with bucketed ages versus individual, several ages on the x-axis. There's still a clear indication that survivng (or not) increased or decreased with age."
   ]
  },
  {
   "cell_type": "code",
   "execution_count": 8,
   "id": "9a170758",
   "metadata": {
    "execution": {
     "iopub.execute_input": "2022-03-13T04:54:07.266750Z",
     "iopub.status.busy": "2022-03-13T04:54:07.265890Z",
     "iopub.status.idle": "2022-03-13T04:54:07.421248Z",
     "shell.execute_reply": "2022-03-13T04:54:07.423050Z",
     "shell.execute_reply.started": "2022-03-13T03:41:13.738208Z"
    },
    "papermill": {
     "duration": 0.184614,
     "end_time": "2022-03-13T04:54:07.423408",
     "exception": false,
     "start_time": "2022-03-13T04:54:07.238794",
     "status": "completed"
    },
    "tags": []
   },
   "outputs": [
    {
     "data": {
      "image/png": "[encoded data removed]",
      "text/plain": [
       "<Figure size 432x288 with 1 Axes>"
      ]
     },
     "metadata": {},
     "output_type": "display_data"
    }
   ],
   "source": [
    "plt.pie(train.Pclass.value_counts(), \n",
    "        labels=['3rd class', '1st class', '2nd class'], \n",
    "        colors=sns.color_palette('muted'), \n",
    "        autopct='%.0f%%', \n",
    "        startangle=90, \n",
    "        radius=1.5)\n",
    "plt.rcParams['figure.facecolor'] = 'white'\n",
    "plt.show()"
   ]
  },
  {
   "cell_type": "markdown",
   "id": "21cb869b",
   "metadata": {
    "papermill": {
     "duration": 0.031359,
     "end_time": "2022-03-13T04:54:07.507494",
     "exception": false,
     "start_time": "2022-03-13T04:54:07.476135",
     "status": "completed"
    },
    "tags": []
   },
   "source": [
    "More than half the passengers' socio-economic statuses were considered 3rd class. Many of them had the goal of creating a new life in America – the final destination of the RMS Titanic."
   ]
  },
  {
   "cell_type": "code",
   "execution_count": 9,
   "id": "7666624b",
   "metadata": {
    "execution": {
     "iopub.execute_input": "2022-03-13T04:54:07.569699Z",
     "iopub.status.busy": "2022-03-13T04:54:07.568649Z",
     "iopub.status.idle": "2022-03-13T04:54:08.025730Z",
     "shell.execute_reply": "2022-03-13T04:54:08.025062Z",
     "shell.execute_reply.started": "2022-03-13T03:54:52.487020Z"
    },
    "papermill": {
     "duration": 0.48987,
     "end_time": "2022-03-13T04:54:08.025883",
     "exception": false,
     "start_time": "2022-03-13T04:54:07.536013",
     "status": "completed"
    },
    "tags": []
   },
   "outputs": [
    {
     "data": {
      "text/plain": [
       "<seaborn.axisgrid.FacetGrid at 0x7f92f961cb90>"
      ]
     },
     "execution_count": 9,
     "metadata": {},
     "output_type": "execute_result"
    },
    {
     "data": {
      "image/png": "[encoded data removed]",
      "text/plain": [
       "<Figure size 411.875x360 with 1 Axes>"
      ]
     },
     "metadata": {},
     "output_type": "display_data"
    }
   ],
   "source": [
    "train.groupby(['Pclass'])['Survived']\\\n",
    "    .value_counts(normalize=True)\\\n",
    "    .mul(100)\\\n",
    "    .to_frame()\\\n",
    "    .rename(columns={'Survived': 'Survived_norm'})\\\n",
    "    .sort_values(by=['Pclass', 'Survived'])\\\n",
    "    .reset_index()\\\n",
    "    .pipe((sns.catplot, 'data'), x='Pclass', y='Survived_norm', hue='Survived', kind='bar')"
   ]
  },
  {
   "cell_type": "markdown",
   "id": "c0f800ff",
   "metadata": {
    "papermill": {
     "duration": 0.022897,
     "end_time": "2022-03-13T04:54:08.073280",
     "exception": false,
     "start_time": "2022-03-13T04:54:08.050383",
     "status": "completed"
    },
    "tags": []
   },
   "source": [
    "Even after transforming the total number of passengers in each SES to a common scale, it's not surprising that it's still the case that 3rd class passengers survived the least out of the other classes, and that survival was less common the lower SES a passenger was. \n",
    "\n",
    "3rd class passengers included a wide range of nationalities, according to [this website](http://www.icyousee.org/titanic.html#nation). As the crew spoke mostly English, it's very possible that language barrier could've had a play in preventing 3rd class passengers from escaping safely. Titanic's lifeboats were also located at its very highest deck, which 1st class passengers were closest to. As a result, being a 3rd class passenger that did not understand English aboard the Titanic likely meant both a scary and extremely confusing ordeal."
   ]
  }
 ],
 "metadata": {
  "kernelspec": {
   "display_name": "Python 3",
   "language": "python",
   "name": "python3"
  },
  "language_info": {
   "codemirror_mode": {
    "name": "ipython",
    "version": 3
   },
   "file_extension": ".py",
   "mimetype": "text/x-python",
   "name": "python",
   "nbconvert_exporter": "python",
   "pygments_lexer": "ipython3",
   "version": "3.7.12"
  },
  "papermill": {
   "default_parameters": {},
   "duration": 17.831835,
   "end_time": "2022-03-13T04:54:08.909417",
   "environment_variables": {},
   "exception": null,
   "input_path": "__notebook__.ipynb",
   "output_path": "__notebook__.ipynb",
   "parameters": {},
   "start_time": "2022-03-13T04:53:51.077582",
   "version": "2.3.3"
  }
 },
 "nbformat": 4,
 "nbformat_minor": 5
}
