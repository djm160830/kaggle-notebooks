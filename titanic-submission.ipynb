{
 "cells": [
  {
   "cell_type": "code",
   "execution_count": 1,
   "id": "7f150ae6",
   "metadata": {
    "execution": {
     "iopub.execute_input": "2022-03-18T23:13:27.297676Z",
     "iopub.status.busy": "2022-03-18T23:13:27.295955Z",
     "iopub.status.idle": "2022-03-18T23:13:28.472860Z",
     "shell.execute_reply": "2022-03-18T23:13:28.473685Z",
     "shell.execute_reply.started": "2022-03-18T05:54:41.563497Z"
    },
    "papermill": {
     "duration": 1.199677,
     "end_time": "2022-03-18T23:13:28.474159",
     "exception": false,
     "start_time": "2022-03-18T23:13:27.274482",
     "status": "completed"
    },
    "tags": []
   },
   "outputs": [
    {
     "data": {
      "text/plain": [
       "Index(['PassengerId', 'Survived', 'Pclass', 'Name', 'Sex', 'Age', 'SibSp',\n",
       "       'Parch', 'Ticket', 'Fare', 'Cabin', 'Embarked'],\n",
       "      dtype='object')"
      ]
     },
     "execution_count": 1,
     "metadata": {},
     "output_type": "execute_result"
    }
   ],
   "source": [
    "import numpy as np\n",
    "import pandas as pd\n",
    "import seaborn as sns\n",
    "import matplotlib.pyplot as plt\n",
    "\n",
    "# EDA\n",
    "train = pd.read_csv(\"/kaggle/input/titanic/train.csv\")\n",
    "#train.head\n",
    "train.info\n",
    "# train.shape\n",
    "# train.isnull().sum()\n",
    "# train['Embarked'].value_counts()\n",
    "train.columns"
   ]
  },
  {
   "cell_type": "code",
   "execution_count": 2,
   "id": "676280b1",
   "metadata": {
    "execution": {
     "iopub.execute_input": "2022-03-18T23:13:28.513792Z",
     "iopub.status.busy": "2022-03-18T23:13:28.513193Z",
     "iopub.status.idle": "2022-03-18T23:13:28.528834Z",
     "shell.execute_reply": "2022-03-18T23:13:28.528310Z",
     "shell.execute_reply.started": "2022-03-18T05:54:42.556782Z"
    },
    "papermill": {
     "duration": 0.034385,
     "end_time": "2022-03-18T23:13:28.528972",
     "exception": false,
     "start_time": "2022-03-18T23:13:28.494587",
     "status": "completed"
    },
    "tags": []
   },
   "outputs": [
    {
     "data": {
      "text/plain": [
       "0    549\n",
       "1    342\n",
       "Name: Survived, dtype: int64"
      ]
     },
     "execution_count": 2,
     "metadata": {},
     "output_type": "execute_result"
    }
   ],
   "source": [
    "train['Survived'].value_counts()"
   ]
  },
  {
   "cell_type": "markdown",
   "id": "39a643e1",
   "metadata": {
    "papermill": {
     "duration": 0.016363,
     "end_time": "2022-03-18T23:13:28.561906",
     "exception": false,
     "start_time": "2022-03-18T23:13:28.545543",
     "status": "completed"
    },
    "tags": []
   },
   "source": [
    "549 passengers died, and 342 passengers survived. Of those survivng passengers, what characteristics did they have that may have contributed to their survival? "
   ]
  },
  {
   "cell_type": "code",
   "execution_count": 3,
   "id": "15b819b8",
   "metadata": {
    "execution": {
     "iopub.execute_input": "2022-03-18T23:13:28.598718Z",
     "iopub.status.busy": "2022-03-18T23:13:28.597798Z",
     "iopub.status.idle": "2022-03-18T23:13:28.605013Z",
     "shell.execute_reply": "2022-03-18T23:13:28.605503Z",
     "shell.execute_reply.started": "2022-03-18T05:54:42.575228Z"
    },
    "papermill": {
     "duration": 0.027941,
     "end_time": "2022-03-18T23:13:28.605679",
     "exception": false,
     "start_time": "2022-03-18T23:13:28.577738",
     "status": "completed"
    },
    "tags": []
   },
   "outputs": [
    {
     "data": {
      "text/plain": [
       "male      0.647587\n",
       "female    0.352413\n",
       "Name: Sex, dtype: float64"
      ]
     },
     "execution_count": 3,
     "metadata": {},
     "output_type": "execute_result"
    }
   ],
   "source": [
    "train['Sex'].value_counts(normalize=True)"
   ]
  },
  {
   "cell_type": "markdown",
   "id": "11c4d44e",
   "metadata": {
    "papermill": {
     "duration": 0.01618,
     "end_time": "2022-03-18T23:13:28.637825",
     "exception": false,
     "start_time": "2022-03-18T23:13:28.621645",
     "status": "completed"
    },
    "tags": []
   },
   "source": [
    "64% of the passengers are male, and 35% of the passengers are female. Because there are more male passengers, it can be mistakenly inferred that being male came with a higher chance of surviving/not surviving. We wouldn't necessarily know if the same could be said for female passengers, as there aren't an equal amount of them and their results to compare to males, and vice-versa."
   ]
  },
  {
   "cell_type": "code",
   "execution_count": 4,
   "id": "6dfe6624",
   "metadata": {
    "execution": {
     "iopub.execute_input": "2022-03-18T23:13:28.674926Z",
     "iopub.status.busy": "2022-03-18T23:13:28.673948Z",
     "iopub.status.idle": "2022-03-18T23:13:28.696935Z",
     "shell.execute_reply": "2022-03-18T23:13:28.696046Z",
     "shell.execute_reply.started": "2022-03-18T05:54:42.589450Z"
    },
    "papermill": {
     "duration": 0.043338,
     "end_time": "2022-03-18T23:13:28.697311",
     "exception": false,
     "start_time": "2022-03-18T23:13:28.653973",
     "status": "completed"
    },
    "tags": []
   },
   "outputs": [
    {
     "name": "stdout",
     "output_type": "stream",
     "text": [
      "                 fates\n",
      "Sex    Survived       \n",
      "female 0            81\n",
      "       1           233\n",
      "male   0           468\n",
      "       1           109\n"
     ]
    }
   ],
   "source": [
    "my_agg=(train\n",
    " .groupby(['Sex','Survived'])\n",
    " .agg(\n",
    "     fates=pd.NamedAgg('Survived', 'count')))\n",
    "print(my_agg)"
   ]
  },
  {
   "cell_type": "markdown",
   "id": "bb2ccfad",
   "metadata": {
    "papermill": {
     "duration": 0.015914,
     "end_time": "2022-03-18T23:13:28.731663",
     "exception": false,
     "start_time": "2022-03-18T23:13:28.715749",
     "status": "completed"
    },
    "tags": []
   },
   "source": [
    "More females survived than died in their group, and more males died than survived in their group. What other factors might have played into this?"
   ]
  },
  {
   "cell_type": "code",
   "execution_count": 5,
   "id": "94df6a28",
   "metadata": {
    "execution": {
     "iopub.execute_input": "2022-03-18T23:13:28.770955Z",
     "iopub.status.busy": "2022-03-18T23:13:28.769702Z",
     "iopub.status.idle": "2022-03-18T23:13:28.778971Z",
     "shell.execute_reply": "2022-03-18T23:13:28.779568Z",
     "shell.execute_reply.started": "2022-03-18T05:54:42.615105Z"
    },
    "papermill": {
     "duration": 0.031779,
     "end_time": "2022-03-18T23:13:28.779734",
     "exception": false,
     "start_time": "2022-03-18T23:13:28.747955",
     "status": "completed"
    },
    "tags": []
   },
   "outputs": [
    {
     "data": {
      "text/plain": [
       "count    714.000000\n",
       "mean      29.699118\n",
       "std       14.526497\n",
       "min        0.420000\n",
       "25%       20.125000\n",
       "50%       28.000000\n",
       "75%       38.000000\n",
       "max       80.000000\n",
       "Name: Age, dtype: float64"
      ]
     },
     "execution_count": 5,
     "metadata": {},
     "output_type": "execute_result"
    }
   ],
   "source": [
    "train['Age'].describe()"
   ]
  },
  {
   "cell_type": "markdown",
   "id": "975a4dff",
   "metadata": {
    "papermill": {
     "duration": 0.016174,
     "end_time": "2022-03-18T23:13:28.812575",
     "exception": false,
     "start_time": "2022-03-18T23:13:28.796401",
     "status": "completed"
    },
    "tags": []
   },
   "source": [
    "It looks as if most of the passengers (75% of them) are age 38 and below."
   ]
  },
  {
   "cell_type": "code",
   "execution_count": 6,
   "id": "d5cc8d61",
   "metadata": {
    "execution": {
     "iopub.execute_input": "2022-03-18T23:13:28.849862Z",
     "iopub.status.busy": "2022-03-18T23:13:28.849236Z",
     "iopub.status.idle": "2022-03-18T23:13:28.894692Z",
     "shell.execute_reply": "2022-03-18T23:13:28.893864Z",
     "shell.execute_reply.started": "2022-03-18T05:54:42.629840Z"
    },
    "papermill": {
     "duration": 0.065526,
     "end_time": "2022-03-18T23:13:28.894884",
     "exception": false,
     "start_time": "2022-03-18T23:13:28.829358",
     "status": "completed"
    },
    "tags": []
   },
   "outputs": [
    {
     "data": {
      "text/html": [
       "<div>\n",
       "<style scoped>\n",
       "    .dataframe tbody tr th:only-of-type {\n",
       "        vertical-align: middle;\n",
       "    }\n",
       "\n",
       "    .dataframe tbody tr th {\n",
       "        vertical-align: top;\n",
       "    }\n",
       "\n",
       "    .dataframe thead th {\n",
       "        text-align: right;\n",
       "    }\n",
       "</style>\n",
       "<table border=\"1\" class=\"dataframe\">\n",
       "  <thead>\n",
       "    <tr style=\"text-align: right;\">\n",
       "      <th></th>\n",
       "      <th>Age</th>\n",
       "      <th>(0, 10]</th>\n",
       "      <th>(10, 20]</th>\n",
       "      <th>(20, 30]</th>\n",
       "      <th>(30, 40]</th>\n",
       "      <th>(40, 50]</th>\n",
       "      <th>(50, 60]</th>\n",
       "      <th>(60, 70]</th>\n",
       "      <th>(70, 80]</th>\n",
       "    </tr>\n",
       "    <tr>\n",
       "      <th>Sex</th>\n",
       "      <th>Survived</th>\n",
       "      <th></th>\n",
       "      <th></th>\n",
       "      <th></th>\n",
       "      <th></th>\n",
       "      <th></th>\n",
       "      <th></th>\n",
       "      <th></th>\n",
       "      <th></th>\n",
       "    </tr>\n",
       "  </thead>\n",
       "  <tbody>\n",
       "    <tr>\n",
       "      <th rowspan=\"2\" valign=\"top\">female</th>\n",
       "      <th>0</th>\n",
       "      <td>12</td>\n",
       "      <td>12</td>\n",
       "      <td>20</td>\n",
       "      <td>9</td>\n",
       "      <td>10</td>\n",
       "      <td>1</td>\n",
       "      <td>0</td>\n",
       "      <td>0</td>\n",
       "    </tr>\n",
       "    <tr>\n",
       "      <th>1</th>\n",
       "      <td>19</td>\n",
       "      <td>34</td>\n",
       "      <td>61</td>\n",
       "      <td>46</td>\n",
       "      <td>21</td>\n",
       "      <td>13</td>\n",
       "      <td>3</td>\n",
       "      <td>0</td>\n",
       "    </tr>\n",
       "    <tr>\n",
       "      <th rowspan=\"2\" valign=\"top\">male</th>\n",
       "      <th>0</th>\n",
       "      <td>14</td>\n",
       "      <td>59</td>\n",
       "      <td>126</td>\n",
       "      <td>77</td>\n",
       "      <td>43</td>\n",
       "      <td>24</td>\n",
       "      <td>13</td>\n",
       "      <td>4</td>\n",
       "    </tr>\n",
       "    <tr>\n",
       "      <th>1</th>\n",
       "      <td>19</td>\n",
       "      <td>10</td>\n",
       "      <td>23</td>\n",
       "      <td>23</td>\n",
       "      <td>12</td>\n",
       "      <td>4</td>\n",
       "      <td>1</td>\n",
       "      <td>1</td>\n",
       "    </tr>\n",
       "  </tbody>\n",
       "</table>\n",
       "</div>"
      ],
      "text/plain": [
       "Age              (0, 10]  (10, 20]  (20, 30]  (30, 40]  (40, 50]  (50, 60]  \\\n",
       "Sex    Survived                                                              \n",
       "female 0              12        12        20         9        10         1   \n",
       "       1              19        34        61        46        21        13   \n",
       "male   0              14        59       126        77        43        24   \n",
       "       1              19        10        23        23        12         4   \n",
       "\n",
       "Age              (60, 70]  (70, 80]  \n",
       "Sex    Survived                      \n",
       "female 0                0         0  \n",
       "       1                3         0  \n",
       "male   0               13         4  \n",
       "       1                1         1  "
      ]
     },
     "execution_count": 6,
     "metadata": {},
     "output_type": "execute_result"
    }
   ],
   "source": [
    "mybins = pd.IntervalIndex.from_tuples([(0,10),(10,20),(20,30),(30,40),(40,50),(50,60),(60,70),(70,80)])\n",
    "train.groupby(['Sex', \n",
    "               'Survived', \n",
    "               pd.cut(x=train['Age'],\n",
    "                      bins=mybins)\n",
    "              ])\\\n",
    "      .size()\\\n",
    "      .unstack()"
   ]
  },
  {
   "cell_type": "markdown",
   "id": "2934b6b1",
   "metadata": {
    "papermill": {
     "duration": 0.016942,
     "end_time": "2022-03-18T23:13:28.935375",
     "exception": false,
     "start_time": "2022-03-18T23:13:28.918433",
     "status": "completed"
    },
    "tags": []
   },
   "source": [
    "Because there isn't an even number of each age to properly determine whether age played a huge factor into surviving or not, I placed their ages into buckets:"
   ]
  },
  {
   "cell_type": "code",
   "execution_count": 7,
   "id": "787e7e88",
   "metadata": {
    "execution": {
     "iopub.execute_input": "2022-03-18T23:13:28.976238Z",
     "iopub.status.busy": "2022-03-18T23:13:28.975552Z",
     "iopub.status.idle": "2022-03-18T23:13:29.525616Z",
     "shell.execute_reply": "2022-03-18T23:13:29.525131Z",
     "shell.execute_reply.started": "2022-03-18T05:54:42.674877Z"
    },
    "papermill": {
     "duration": 0.571169,
     "end_time": "2022-03-18T23:13:29.525767",
     "exception": false,
     "start_time": "2022-03-18T23:13:28.954598",
     "status": "completed"
    },
    "tags": []
   },
   "outputs": [
    {
     "data": {
      "text/plain": [
       "<seaborn.axisgrid.FacetGrid at 0x7f2235eb94d0>"
      ]
     },
     "execution_count": 7,
     "metadata": {},
     "output_type": "execute_result"
    },
    {
     "data": {
      "image/png": "[encoded data removed]",
      "text/plain": [
       "<Figure size 771.875x360 with 2 Axes>"
      ]
     },
     "metadata": {
      "needs_background": "light"
     },
     "output_type": "display_data"
    }
   ],
   "source": [
    "train.groupby(['Sex',\n",
    "              pd.cut(x=train['Age'],\n",
    "                      bins=train['Age'].quantile([0,.25,.5,.75,1]),\n",
    "                      labels=['0-20','21-28','29-38','38-80'])\n",
    "              ],\\\n",
    "             )['Survived']\\\n",
    "    .value_counts(normalize=True)\\\n",
    "    .mul(100)\\\n",
    "    .rename('Percent')\\\n",
    "    .reset_index(level=1)\\\n",
    "    .reset_index(level=1)\\\n",
    "    .reset_index(level=0)\\\n",
    "    .pipe((sns.catplot,'data'), x='Age', y='Percent', hue='Survived', col='Sex', kind='bar')"
   ]
  },
  {
   "cell_type": "markdown",
   "id": "11c5d51c",
   "metadata": {
    "papermill": {
     "duration": 0.017996,
     "end_time": "2022-03-18T23:13:29.563187",
     "exception": false,
     "start_time": "2022-03-18T23:13:29.545191",
     "status": "completed"
    },
    "tags": []
   },
   "source": [
    "Bucketing the ages is more meaningful than not bucketing them. There's more clarity in seeing the results with bucketed ages versus individual, several ages on the x-axis. There's still a clear indication that survivng (or not) increased or decreased with age."
   ]
  },
  {
   "cell_type": "code",
   "execution_count": 8,
   "id": "a8be0cb4",
   "metadata": {
    "execution": {
     "iopub.execute_input": "2022-03-18T23:13:29.606106Z",
     "iopub.status.busy": "2022-03-18T23:13:29.605141Z",
     "iopub.status.idle": "2022-03-18T23:13:29.723664Z",
     "shell.execute_reply": "2022-03-18T23:13:29.724480Z",
     "shell.execute_reply.started": "2022-03-18T05:54:43.225277Z"
    },
    "papermill": {
     "duration": 0.143277,
     "end_time": "2022-03-18T23:13:29.724749",
     "exception": false,
     "start_time": "2022-03-18T23:13:29.581472",
     "status": "completed"
    },
    "tags": []
   },
   "outputs": [
    {
     "data": {
      "text/plain": [
       "([<matplotlib.patches.Wedge at 0x7f2233b6a890>,\n",
       "  <matplotlib.patches.Wedge at 0x7f2233b78190>,\n",
       "  <matplotlib.patches.Wedge at 0x7f2233b789d0>],\n",
       " [Text(-1.6288120254956846, -0.2635742506403942, '3rd class'),\n",
       "  Text(1.4571365927931532, -0.7741143003091732, '1st class'),\n",
       "  Text(0.9969395548015787, 1.3147667184987724, '2nd class')],\n",
       " [Text(-0.888442922997646, -0.14376777307657862, '55%'),\n",
       "  Text(0.7948017778871743, -0.42224416380500346, '24%'),\n",
       "  Text(0.5437852117099519, 0.7171454828175121, '21%')])"
      ]
     },
     "execution_count": 8,
     "metadata": {},
     "output_type": "execute_result"
    },
    {
     "data": {
      "image/png": "[encoded data removed]",
      "text/plain": [
       "<Figure size 432x288 with 1 Axes>"
      ]
     },
     "metadata": {},
     "output_type": "display_data"
    }
   ],
   "source": [
    "train.Pclass.value_counts()\\\n",
    "     .pipe((plt.pie, 'x'),\n",
    "           labels=['3rd class', '1st class', '2nd class'], \n",
    "           colors=sns.color_palette('muted'), \n",
    "           autopct='%.0f%%',\n",
    "           startangle=90, \n",
    "           radius=1.5)"
   ]
  },
  {
   "cell_type": "markdown",
   "id": "dc9deaf4",
   "metadata": {
    "papermill": {
     "duration": 0.041131,
     "end_time": "2022-03-18T23:13:29.804175",
     "exception": false,
     "start_time": "2022-03-18T23:13:29.763044",
     "status": "completed"
    },
    "tags": []
   },
   "source": [
    "More than half the passengers' socio-economic statuses were considered 3rd class. Many of them had the goal of creating a new life in America – the final destination of the RMS Titanic."
   ]
  },
  {
   "cell_type": "code",
   "execution_count": 9,
   "id": "e7904fbc",
   "metadata": {
    "execution": {
     "iopub.execute_input": "2022-03-18T23:13:29.855451Z",
     "iopub.status.busy": "2022-03-18T23:13:29.854794Z",
     "iopub.status.idle": "2022-03-18T23:13:30.192118Z",
     "shell.execute_reply": "2022-03-18T23:13:30.191603Z",
     "shell.execute_reply.started": "2022-03-18T05:54:43.330346Z"
    },
    "papermill": {
     "duration": 0.363615,
     "end_time": "2022-03-18T23:13:30.192260",
     "exception": false,
     "start_time": "2022-03-18T23:13:29.828645",
     "status": "completed"
    },
    "tags": []
   },
   "outputs": [
    {
     "data": {
      "text/plain": [
       "<seaborn.axisgrid.FacetGrid at 0x7f2233d04ed0>"
      ]
     },
     "execution_count": 9,
     "metadata": {},
     "output_type": "execute_result"
    },
    {
     "data": {
      "image/png": "[encoded data removed]",
      "text/plain": [
       "<Figure size 411.875x360 with 1 Axes>"
      ]
     },
     "metadata": {
      "needs_background": "light"
     },
     "output_type": "display_data"
    }
   ],
   "source": [
    "train.groupby(['Pclass'])['Survived']\\\n",
    "    .value_counts(normalize=True)\\\n",
    "    .mul(100)\\\n",
    "    .to_frame()\\\n",
    "    .rename(columns={'Survived': 'Survived_norm'})\\\n",
    "    .sort_values(by=['Pclass', 'Survived'])\\\n",
    "    .reset_index()\\\n",
    "    .pipe((sns.catplot, 'data'), x='Pclass', y='Survived_norm', hue='Survived', kind='bar')"
   ]
  },
  {
   "cell_type": "markdown",
   "id": "83754582",
   "metadata": {
    "papermill": {
     "duration": 0.020709,
     "end_time": "2022-03-18T23:13:30.233400",
     "exception": false,
     "start_time": "2022-03-18T23:13:30.212691",
     "status": "completed"
    },
    "tags": []
   },
   "source": [
    "Even after transforming the total number of passengers in each SES to a common scale, it's not surprising that it's still the case that 3rd class passengers survived the least out of the other classes, and that survival was less common the lower SES a passenger was. \n",
    "\n",
    "3rd class passengers included a wide range of nationalities, according to [this website](http://www.icyousee.org/titanic.html#nation). As mentioned earlier, many 3rd class passengers were immigrants hoping to make a new life in America. Like many of them on the Titanic, I was also an immigrant to America. I didn't understand English well. As the crew spoke mostly English, it's very possible that language barrier could've had a play in preventing 3rd class passengers from escaping safely. Titanic's lifeboats were also located at its very highest deck, which 1st class passengers were closest to. As a result, being a 3rd class immigrant passenger that did not understand English aboard the Titanic likely meant both a scary and extremely confusing ordeal."
   ]
  },
  {
   "cell_type": "code",
   "execution_count": 10,
   "id": "352205aa",
   "metadata": {
    "execution": {
     "iopub.execute_input": "2022-03-18T23:13:30.282610Z",
     "iopub.status.busy": "2022-03-18T23:13:30.281980Z",
     "iopub.status.idle": "2022-03-18T23:13:30.284673Z",
     "shell.execute_reply": "2022-03-18T23:13:30.285069Z",
     "shell.execute_reply.started": "2022-03-18T05:54:43.659240Z"
    },
    "papermill": {
     "duration": 0.031189,
     "end_time": "2022-03-18T23:13:30.285263",
     "exception": false,
     "start_time": "2022-03-18T23:13:30.254074",
     "status": "completed"
    },
    "tags": []
   },
   "outputs": [
    {
     "data": {
      "text/plain": [
       "B96 B98        4\n",
       "G6             4\n",
       "C23 C25 C27    4\n",
       "C22 C26        3\n",
       "F33            3\n",
       "              ..\n",
       "E34            1\n",
       "C7             1\n",
       "C54            1\n",
       "E36            1\n",
       "C148           1\n",
       "Name: Cabin, Length: 147, dtype: int64"
      ]
     },
     "execution_count": 10,
     "metadata": {},
     "output_type": "execute_result"
    }
   ],
   "source": [
    "train.Cabin.value_counts()"
   ]
  },
  {
   "cell_type": "markdown",
   "id": "e7ff1304",
   "metadata": {
    "papermill": {
     "duration": 0.020379,
     "end_time": "2022-03-18T23:13:30.326282",
     "exception": false,
     "start_time": "2022-03-18T23:13:30.305903",
     "status": "completed"
    },
    "tags": []
   },
   "source": [
    "Using the 'Cabin' column, I'll get to see if cabin location really did have an impact on whether a person survived or not. Another thing to consider is whether passengers were in or near their cabins when the Titanic started sinking. According to [this website](https://americanhistory.si.edu/collections/search/object/nmah_1416178), the Titanic hit the iceberg at 11:40 PM, and completely sank at 2:20 AM. Using that information, I'm going to conclude that passengers were in their cabins sleeping, or getting ready to sleep."
   ]
  },
  {
   "cell_type": "code",
   "execution_count": 11,
   "id": "d6b83d2c",
   "metadata": {
    "execution": {
     "iopub.execute_input": "2022-03-18T23:13:30.370937Z",
     "iopub.status.busy": "2022-03-18T23:13:30.370332Z",
     "iopub.status.idle": "2022-03-18T23:13:30.377968Z",
     "shell.execute_reply": "2022-03-18T23:13:30.378454Z",
     "shell.execute_reply.started": "2022-03-18T05:54:43.669317Z"
    },
    "papermill": {
     "duration": 0.031661,
     "end_time": "2022-03-18T23:13:30.378623",
     "exception": false,
     "start_time": "2022-03-18T23:13:30.346962",
     "status": "completed"
    },
    "tags": []
   },
   "outputs": [
    {
     "data": {
      "text/plain": [
       "PassengerId      0\n",
       "Survived         0\n",
       "Pclass           0\n",
       "Name             0\n",
       "Sex              0\n",
       "Age            177\n",
       "SibSp            0\n",
       "Parch            0\n",
       "Ticket           0\n",
       "Fare             0\n",
       "Cabin          687\n",
       "Embarked         2\n",
       "dtype: int64"
      ]
     },
     "execution_count": 11,
     "metadata": {},
     "output_type": "execute_result"
    }
   ],
   "source": [
    "train.isna().sum()"
   ]
  },
  {
   "cell_type": "markdown",
   "id": "5dae27c8",
   "metadata": {
    "papermill": {
     "duration": 0.021216,
     "end_time": "2022-03-18T23:13:30.420932",
     "exception": false,
     "start_time": "2022-03-18T23:13:30.399716",
     "status": "completed"
    },
    "tags": []
   },
   "source": [
    "Unfortunately, 77% of the 'Cabin' column is null, so it may not be the best feature to select when creating the model."
   ]
  },
  {
   "cell_type": "markdown",
   "id": "1790314f",
   "metadata": {
    "papermill": {
     "duration": 0.02141,
     "end_time": "2022-03-18T23:13:30.463805",
     "exception": false,
     "start_time": "2022-03-18T23:13:30.442395",
     "status": "completed"
    },
    "tags": []
   },
   "source": [
    "I'd like to determine whether it might be more accurate to use fare as an indicator for survival rather than socio-economic status. To do this, I plotted the Pearson's correlation coefficients of each numerical variable:"
   ]
  },
  {
   "cell_type": "code",
   "execution_count": 12,
   "id": "d8856bc1",
   "metadata": {
    "execution": {
     "iopub.execute_input": "2022-03-18T23:13:30.512188Z",
     "iopub.status.busy": "2022-03-18T23:13:30.511565Z",
     "iopub.status.idle": "2022-03-18T23:13:31.029757Z",
     "shell.execute_reply": "2022-03-18T23:13:31.029214Z",
     "shell.execute_reply.started": "2022-03-18T06:11:10.665775Z"
    },
    "papermill": {
     "duration": 0.544856,
     "end_time": "2022-03-18T23:13:31.029909",
     "exception": false,
     "start_time": "2022-03-18T23:13:30.485053",
     "status": "completed"
    },
    "tags": []
   },
   "outputs": [
    {
     "data": {
      "text/plain": [
       "<AxesSubplot:>"
      ]
     },
     "execution_count": 12,
     "metadata": {},
     "output_type": "execute_result"
    },
    {
     "data": {
      "image/png": "[encoded data removed]",
      "text/plain": [
       "<Figure size 432x288 with 2 Axes>"
      ]
     },
     "metadata": {
      "needs_background": "light"
     },
     "output_type": "display_data"
    }
   ],
   "source": [
    "train.corr(method='pearson')\\\n",
    "     .pipe((sns.heatmap, 'data'), annot=True, fmt='.2f', cmap='mako', linecolor='black')"
   ]
  },
  {
   "cell_type": "markdown",
   "id": "4c7c6e0c",
   "metadata": {
    "papermill": {
     "duration": 0.025278,
     "end_time": "2022-03-18T23:13:31.079151",
     "exception": false,
     "start_time": "2022-03-18T23:13:31.053873",
     "status": "completed"
    },
    "tags": []
   },
   "source": [
    "According to the heatmap above, the Pclass and Fare columns seemed to have a higher correlation to Survived than any of the other columns. Between Pclass (-0.34) and Fare (0.26), Pclass has a better correlation to Survived than Fare. Pclass has less outliers than Fare, probably because a person's Pclass could be indicative of their Fare (affording something expensive like ocean liner tickets could likely mean being able to also afford other generally expensive things). Pearson's correlation coefficient is sensitive to outliers, which Pclass has less of in comparison to Fare due to the assumption that Pclass can be considered a discretized transformation of Fare. Because of this, Fare will be transformed into a more 'clean' input for the model by having its outliers removed."
   ]
  }
 ],
 "metadata": {
  "kernelspec": {
   "display_name": "Python 3",
   "language": "python",
   "name": "python3"
  },
  "language_info": {
   "codemirror_mode": {
    "name": "ipython",
    "version": 3
   },
   "file_extension": ".py",
   "mimetype": "text/x-python",
   "name": "python",
   "nbconvert_exporter": "python",
   "pygments_lexer": "ipython3",
   "version": "3.7.12"
  },
  "papermill": {
   "default_parameters": {},
   "duration": 13.625714,
   "end_time": "2022-03-18T23:13:31.813001",
   "environment_variables": {},
   "exception": null,
   "input_path": "__notebook__.ipynb",
   "output_path": "__notebook__.ipynb",
   "parameters": {},
   "start_time": "2022-03-18T23:13:18.187287",
   "version": "2.3.3"
  }
 },
 "nbformat": 4,
 "nbformat_minor": 5
}
