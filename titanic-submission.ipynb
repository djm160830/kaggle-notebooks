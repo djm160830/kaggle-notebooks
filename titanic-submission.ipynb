{
 "cells": [
  {
   "cell_type": "code",
   "execution_count": 1,
   "id": "8c5e8014",
   "metadata": {
    "execution": {
     "iopub.execute_input": "2022-03-17T04:38:53.370502Z",
     "iopub.status.busy": "2022-03-17T04:38:53.369650Z",
     "iopub.status.idle": "2022-03-17T04:38:54.293391Z",
     "shell.execute_reply": "2022-03-17T04:38:54.293967Z",
     "shell.execute_reply.started": "2022-03-17T04:29:45.031387Z"
    },
    "papermill": {
     "duration": 0.962503,
     "end_time": "2022-03-17T04:38:54.294261",
     "exception": false,
     "start_time": "2022-03-17T04:38:53.331758",
     "status": "completed"
    },
    "tags": []
   },
   "outputs": [
    {
     "data": {
      "text/plain": [
       "Index(['PassengerId', 'Survived', 'Pclass', 'Name', 'Sex', 'Age', 'SibSp',\n",
       "       'Parch', 'Ticket', 'Fare', 'Cabin', 'Embarked'],\n",
       "      dtype='object')"
      ]
     },
     "execution_count": 1,
     "metadata": {},
     "output_type": "execute_result"
    }
   ],
   "source": [
    "import numpy as np\n",
    "import pandas as pd\n",
    "import seaborn as sns\n",
    "import matplotlib.pyplot as plt\n",
    "\n",
    "# EDA\n",
    "train = pd.read_csv(\"/kaggle/input/titanic/train.csv\")\n",
    "#train.head\n",
    "train.info\n",
    "# train.shape\n",
    "# train.isnull().sum()\n",
    "# train['Embarked'].value_counts()\n",
    "train.columns"
   ]
  },
  {
   "cell_type": "code",
   "execution_count": 2,
   "id": "1beaec52",
   "metadata": {
    "execution": {
     "iopub.execute_input": "2022-03-17T04:38:54.361774Z",
     "iopub.status.busy": "2022-03-17T04:38:54.361235Z",
     "iopub.status.idle": "2022-03-17T04:38:54.370988Z",
     "shell.execute_reply": "2022-03-17T04:38:54.371502Z",
     "shell.execute_reply.started": "2022-03-17T04:29:45.053145Z"
    },
    "papermill": {
     "duration": 0.047442,
     "end_time": "2022-03-17T04:38:54.371638",
     "exception": false,
     "start_time": "2022-03-17T04:38:54.324196",
     "status": "completed"
    },
    "tags": []
   },
   "outputs": [
    {
     "data": {
      "text/plain": [
       "0    549\n",
       "1    342\n",
       "Name: Survived, dtype: int64"
      ]
     },
     "execution_count": 2,
     "metadata": {},
     "output_type": "execute_result"
    }
   ],
   "source": [
    "train['Survived'].value_counts()"
   ]
  },
  {
   "cell_type": "markdown",
   "id": "d52abb79",
   "metadata": {
    "papermill": {
     "duration": 0.018972,
     "end_time": "2022-03-17T04:38:54.410166",
     "exception": false,
     "start_time": "2022-03-17T04:38:54.391194",
     "status": "completed"
    },
    "tags": []
   },
   "source": [
    "549 passengers died, and 342 passengers survived. Of those survivng passengers, what characteristics did they have that may have contributed to their survival? "
   ]
  },
  {
   "cell_type": "code",
   "execution_count": 3,
   "id": "44b1dda7",
   "metadata": {
    "execution": {
     "iopub.execute_input": "2022-03-17T04:38:54.452455Z",
     "iopub.status.busy": "2022-03-17T04:38:54.451791Z",
     "iopub.status.idle": "2022-03-17T04:38:54.460276Z",
     "shell.execute_reply": "2022-03-17T04:38:54.460742Z",
     "shell.execute_reply.started": "2022-03-17T04:29:45.063660Z"
    },
    "papermill": {
     "duration": 0.031154,
     "end_time": "2022-03-17T04:38:54.460889",
     "exception": false,
     "start_time": "2022-03-17T04:38:54.429735",
     "status": "completed"
    },
    "tags": []
   },
   "outputs": [
    {
     "data": {
      "text/plain": [
       "male      0.647587\n",
       "female    0.352413\n",
       "Name: Sex, dtype: float64"
      ]
     },
     "execution_count": 3,
     "metadata": {},
     "output_type": "execute_result"
    }
   ],
   "source": [
    "train['Sex'].value_counts(normalize=True)"
   ]
  },
  {
   "cell_type": "markdown",
   "id": "39698044",
   "metadata": {
    "papermill": {
     "duration": 0.0187,
     "end_time": "2022-03-17T04:38:54.499256",
     "exception": false,
     "start_time": "2022-03-17T04:38:54.480556",
     "status": "completed"
    },
    "tags": []
   },
   "source": [
    "64% of the passengers are male, and 35% of the passengers are female. Because there are more male passengers, it can be mistakenly inferred that being male came with a higher chance of surviving/not surviving. We wouldn't necessarily know if the same could be said for female passengers, as there aren't an equal amount of them and their results to compare to males, and vice-versa."
   ]
  },
  {
   "cell_type": "code",
   "execution_count": 4,
   "id": "41947807",
   "metadata": {
    "execution": {
     "iopub.execute_input": "2022-03-17T04:38:54.540641Z",
     "iopub.status.busy": "2022-03-17T04:38:54.540154Z",
     "iopub.status.idle": "2022-03-17T04:38:54.559731Z",
     "shell.execute_reply": "2022-03-17T04:38:54.560132Z",
     "shell.execute_reply.started": "2022-03-17T04:29:45.081045Z"
    },
    "papermill": {
     "duration": 0.041223,
     "end_time": "2022-03-17T04:38:54.560255",
     "exception": false,
     "start_time": "2022-03-17T04:38:54.519032",
     "status": "completed"
    },
    "tags": []
   },
   "outputs": [
    {
     "name": "stdout",
     "output_type": "stream",
     "text": [
      "                 fates\n",
      "Sex    Survived       \n",
      "female 0            81\n",
      "       1           233\n",
      "male   0           468\n",
      "       1           109\n"
     ]
    }
   ],
   "source": [
    "my_agg=(train\n",
    " .groupby(['Sex','Survived'])\n",
    " .agg(\n",
    "     fates=pd.NamedAgg('Survived', 'count')))\n",
    "print(my_agg)"
   ]
  },
  {
   "cell_type": "markdown",
   "id": "4a0473c4",
   "metadata": {
    "papermill": {
     "duration": 0.019409,
     "end_time": "2022-03-17T04:38:54.599443",
     "exception": false,
     "start_time": "2022-03-17T04:38:54.580034",
     "status": "completed"
    },
    "tags": []
   },
   "source": [
    "More females survived than died in their group, and more males died than survived in their group. What other factors might have played into this?"
   ]
  },
  {
   "cell_type": "code",
   "execution_count": 5,
   "id": "b3acdc1e",
   "metadata": {
    "execution": {
     "iopub.execute_input": "2022-03-17T04:38:54.642180Z",
     "iopub.status.busy": "2022-03-17T04:38:54.641523Z",
     "iopub.status.idle": "2022-03-17T04:38:54.650394Z",
     "shell.execute_reply": "2022-03-17T04:38:54.650926Z",
     "shell.execute_reply.started": "2022-03-17T04:29:45.102328Z"
    },
    "papermill": {
     "duration": 0.031707,
     "end_time": "2022-03-17T04:38:54.651114",
     "exception": false,
     "start_time": "2022-03-17T04:38:54.619407",
     "status": "completed"
    },
    "tags": []
   },
   "outputs": [
    {
     "data": {
      "text/plain": [
       "count    714.000000\n",
       "mean      29.699118\n",
       "std       14.526497\n",
       "min        0.420000\n",
       "25%       20.125000\n",
       "50%       28.000000\n",
       "75%       38.000000\n",
       "max       80.000000\n",
       "Name: Age, dtype: float64"
      ]
     },
     "execution_count": 5,
     "metadata": {},
     "output_type": "execute_result"
    }
   ],
   "source": [
    "train['Age'].describe()"
   ]
  },
  {
   "cell_type": "markdown",
   "id": "db22ece7",
   "metadata": {
    "papermill": {
     "duration": 0.030415,
     "end_time": "2022-03-17T04:38:54.713948",
     "exception": false,
     "start_time": "2022-03-17T04:38:54.683533",
     "status": "completed"
    },
    "tags": []
   },
   "source": [
    "It looks as if most of the passengers (75% of them) are age 38 and below."
   ]
  },
  {
   "cell_type": "code",
   "execution_count": 6,
   "id": "ef697690",
   "metadata": {
    "execution": {
     "iopub.execute_input": "2022-03-17T04:38:54.779030Z",
     "iopub.status.busy": "2022-03-17T04:38:54.778410Z",
     "iopub.status.idle": "2022-03-17T04:38:54.818797Z",
     "shell.execute_reply": "2022-03-17T04:38:54.818237Z",
     "shell.execute_reply.started": "2022-03-17T04:29:45.122021Z"
    },
    "papermill": {
     "duration": 0.073657,
     "end_time": "2022-03-17T04:38:54.818925",
     "exception": false,
     "start_time": "2022-03-17T04:38:54.745268",
     "status": "completed"
    },
    "tags": []
   },
   "outputs": [
    {
     "data": {
      "text/html": [
       "<div>\n",
       "<style scoped>\n",
       "    .dataframe tbody tr th:only-of-type {\n",
       "        vertical-align: middle;\n",
       "    }\n",
       "\n",
       "    .dataframe tbody tr th {\n",
       "        vertical-align: top;\n",
       "    }\n",
       "\n",
       "    .dataframe thead th {\n",
       "        text-align: right;\n",
       "    }\n",
       "</style>\n",
       "<table border=\"1\" class=\"dataframe\">\n",
       "  <thead>\n",
       "    <tr style=\"text-align: right;\">\n",
       "      <th></th>\n",
       "      <th>Age</th>\n",
       "      <th>(0, 10]</th>\n",
       "      <th>(10, 20]</th>\n",
       "      <th>(20, 30]</th>\n",
       "      <th>(30, 40]</th>\n",
       "      <th>(40, 50]</th>\n",
       "      <th>(50, 60]</th>\n",
       "      <th>(60, 70]</th>\n",
       "      <th>(70, 80]</th>\n",
       "    </tr>\n",
       "    <tr>\n",
       "      <th>Sex</th>\n",
       "      <th>Survived</th>\n",
       "      <th></th>\n",
       "      <th></th>\n",
       "      <th></th>\n",
       "      <th></th>\n",
       "      <th></th>\n",
       "      <th></th>\n",
       "      <th></th>\n",
       "      <th></th>\n",
       "    </tr>\n",
       "  </thead>\n",
       "  <tbody>\n",
       "    <tr>\n",
       "      <th rowspan=\"2\" valign=\"top\">female</th>\n",
       "      <th>0</th>\n",
       "      <td>12</td>\n",
       "      <td>12</td>\n",
       "      <td>20</td>\n",
       "      <td>9</td>\n",
       "      <td>10</td>\n",
       "      <td>1</td>\n",
       "      <td>0</td>\n",
       "      <td>0</td>\n",
       "    </tr>\n",
       "    <tr>\n",
       "      <th>1</th>\n",
       "      <td>19</td>\n",
       "      <td>34</td>\n",
       "      <td>61</td>\n",
       "      <td>46</td>\n",
       "      <td>21</td>\n",
       "      <td>13</td>\n",
       "      <td>3</td>\n",
       "      <td>0</td>\n",
       "    </tr>\n",
       "    <tr>\n",
       "      <th rowspan=\"2\" valign=\"top\">male</th>\n",
       "      <th>0</th>\n",
       "      <td>14</td>\n",
       "      <td>59</td>\n",
       "      <td>126</td>\n",
       "      <td>77</td>\n",
       "      <td>43</td>\n",
       "      <td>24</td>\n",
       "      <td>13</td>\n",
       "      <td>4</td>\n",
       "    </tr>\n",
       "    <tr>\n",
       "      <th>1</th>\n",
       "      <td>19</td>\n",
       "      <td>10</td>\n",
       "      <td>23</td>\n",
       "      <td>23</td>\n",
       "      <td>12</td>\n",
       "      <td>4</td>\n",
       "      <td>1</td>\n",
       "      <td>1</td>\n",
       "    </tr>\n",
       "  </tbody>\n",
       "</table>\n",
       "</div>"
      ],
      "text/plain": [
       "Age              (0, 10]  (10, 20]  (20, 30]  (30, 40]  (40, 50]  (50, 60]  \\\n",
       "Sex    Survived                                                              \n",
       "female 0              12        12        20         9        10         1   \n",
       "       1              19        34        61        46        21        13   \n",
       "male   0              14        59       126        77        43        24   \n",
       "       1              19        10        23        23        12         4   \n",
       "\n",
       "Age              (60, 70]  (70, 80]  \n",
       "Sex    Survived                      \n",
       "female 0                0         0  \n",
       "       1                3         0  \n",
       "male   0               13         4  \n",
       "       1                1         1  "
      ]
     },
     "execution_count": 6,
     "metadata": {},
     "output_type": "execute_result"
    }
   ],
   "source": [
    "mybins = pd.IntervalIndex.from_tuples([(0,10),(10,20),(20,30),(30,40),(40,50),(50,60),(60,70),(70,80)])\n",
    "train.groupby(['Sex', \n",
    "               'Survived', \n",
    "               pd.cut(x=train['Age'],\n",
    "                      bins=mybins)\n",
    "              ])\\\n",
    "      .size()\\\n",
    "      .unstack()"
   ]
  },
  {
   "cell_type": "markdown",
   "id": "d7f6197e",
   "metadata": {
    "papermill": {
     "duration": 0.030856,
     "end_time": "2022-03-17T04:38:54.881249",
     "exception": false,
     "start_time": "2022-03-17T04:38:54.850393",
     "status": "completed"
    },
    "tags": []
   },
   "source": [
    "Because there isn't an even number of each age to properly determine whether age played a huge factor into surviving or not, I placed their ages into buckets:"
   ]
  },
  {
   "cell_type": "code",
   "execution_count": 7,
   "id": "ef696fca",
   "metadata": {
    "execution": {
     "iopub.execute_input": "2022-03-17T04:38:54.955665Z",
     "iopub.status.busy": "2022-03-17T04:38:54.954996Z",
     "iopub.status.idle": "2022-03-17T04:38:55.487479Z",
     "shell.execute_reply": "2022-03-17T04:38:55.488064Z",
     "shell.execute_reply.started": "2022-03-17T04:29:45.167413Z"
    },
    "papermill": {
     "duration": 0.573635,
     "end_time": "2022-03-17T04:38:55.488269",
     "exception": false,
     "start_time": "2022-03-17T04:38:54.914634",
     "status": "completed"
    },
    "tags": []
   },
   "outputs": [
    {
     "data": {
      "text/plain": [
       "<seaborn.axisgrid.FacetGrid at 0x7f08a3791490>"
      ]
     },
     "execution_count": 7,
     "metadata": {},
     "output_type": "execute_result"
    },
    {
     "data": {
      "image/png": "[encoded data removed]",
      "text/plain": [
       "<Figure size 771.875x360 with 2 Axes>"
      ]
     },
     "metadata": {
      "needs_background": "light"
     },
     "output_type": "display_data"
    }
   ],
   "source": [
    "train.groupby(['Sex',\n",
    "              pd.cut(x=train['Age'],\n",
    "                      bins=train['Age'].quantile([0,.25,.5,.75,1]),\n",
    "                      labels=['0-20','21-28','29-38','38-80'])\n",
    "              ],\\\n",
    "             )['Survived']\\\n",
    "    .value_counts(normalize=True)\\\n",
    "    .mul(100)\\\n",
    "    .rename('Percent')\\\n",
    "    .reset_index(level=1)\\\n",
    "    .reset_index(level=1)\\\n",
    "    .reset_index(level=0)\\\n",
    "    .pipe((sns.catplot,'data'), x='Age', y='Percent', hue='Survived', col='Sex', kind='bar')"
   ]
  },
  {
   "cell_type": "markdown",
   "id": "82c49432",
   "metadata": {
    "papermill": {
     "duration": 0.033313,
     "end_time": "2022-03-17T04:38:55.555504",
     "exception": false,
     "start_time": "2022-03-17T04:38:55.522191",
     "status": "completed"
    },
    "tags": []
   },
   "source": [
    "Bucketing the ages is more meaningful than not bucketing them. There's more clarity in seeing the results with bucketed ages versus individual, several ages on the x-axis. There's still a clear indication that survivng (or not) increased or decreased with age."
   ]
  },
  {
   "cell_type": "code",
   "execution_count": 8,
   "id": "ae611998",
   "metadata": {
    "execution": {
     "iopub.execute_input": "2022-03-17T04:38:55.625072Z",
     "iopub.status.busy": "2022-03-17T04:38:55.624445Z",
     "iopub.status.idle": "2022-03-17T04:38:55.725462Z",
     "shell.execute_reply": "2022-03-17T04:38:55.726078Z",
     "shell.execute_reply.started": "2022-03-17T04:29:46.009203Z"
    },
    "papermill": {
     "duration": 0.137409,
     "end_time": "2022-03-17T04:38:55.726269",
     "exception": false,
     "start_time": "2022-03-17T04:38:55.588860",
     "status": "completed"
    },
    "tags": []
   },
   "outputs": [
    {
     "data": {
      "text/plain": [
       "([<matplotlib.patches.Wedge at 0x7f08a1166990>,\n",
       "  <matplotlib.patches.Wedge at 0x7f08a1173390>,\n",
       "  <matplotlib.patches.Wedge at 0x7f08a1173bd0>],\n",
       " [Text(-1.6288120254956846, -0.2635742506403942, '3rd class'),\n",
       "  Text(1.4571365927931532, -0.7741143003091732, '1st class'),\n",
       "  Text(0.9969395548015787, 1.3147667184987724, '2nd class')],\n",
       " [Text(-0.888442922997646, -0.14376777307657862, '55%'),\n",
       "  Text(0.7948017778871743, -0.42224416380500346, '24%'),\n",
       "  Text(0.5437852117099519, 0.7171454828175121, '21%')])"
      ]
     },
     "execution_count": 8,
     "metadata": {},
     "output_type": "execute_result"
    },
    {
     "data": {
      "image/png": "[encoded data removed]",
      "text/plain": [
       "<Figure size 432x288 with 1 Axes>"
      ]
     },
     "metadata": {},
     "output_type": "display_data"
    }
   ],
   "source": [
    "train.Pclass.value_counts()\\\n",
    "     .pipe((plt.pie, 'x'),\n",
    "           labels=['3rd class', '1st class', '2nd class'], \n",
    "           colors=sns.color_palette('muted'), \n",
    "           autopct='%.0f%%',\n",
    "           startangle=90, \n",
    "           radius=1.5)"
   ]
  },
  {
   "cell_type": "markdown",
   "id": "e2407f54",
   "metadata": {
    "papermill": {
     "duration": 0.040887,
     "end_time": "2022-03-17T04:38:55.809204",
     "exception": false,
     "start_time": "2022-03-17T04:38:55.768317",
     "status": "completed"
    },
    "tags": []
   },
   "source": [
    "More than half the passengers' socio-economic statuses were considered 3rd class. Many of them had the goal of creating a new life in America – the final destination of the RMS Titanic."
   ]
  },
  {
   "cell_type": "code",
   "execution_count": 9,
   "id": "8523fe88",
   "metadata": {
    "execution": {
     "iopub.execute_input": "2022-03-17T04:38:55.882973Z",
     "iopub.status.busy": "2022-03-17T04:38:55.882324Z",
     "iopub.status.idle": "2022-03-17T04:38:56.125700Z",
     "shell.execute_reply": "2022-03-17T04:38:56.126322Z",
     "shell.execute_reply.started": "2022-03-17T04:29:46.140928Z"
    },
    "papermill": {
     "duration": 0.281175,
     "end_time": "2022-03-17T04:38:56.126500",
     "exception": false,
     "start_time": "2022-03-17T04:38:55.845325",
     "status": "completed"
    },
    "tags": []
   },
   "outputs": [
    {
     "data": {
      "text/plain": [
       "<seaborn.axisgrid.FacetGrid at 0x7f08a33e6810>"
      ]
     },
     "execution_count": 9,
     "metadata": {},
     "output_type": "execute_result"
    },
    {
     "data": {
      "image/png": "[encoded data removed]",
      "text/plain": [
       "<Figure size 411.875x360 with 1 Axes>"
      ]
     },
     "metadata": {
      "needs_background": "light"
     },
     "output_type": "display_data"
    }
   ],
   "source": [
    "train.groupby(['Pclass'])['Survived']\\\n",
    "    .value_counts(normalize=True)\\\n",
    "    .mul(100)\\\n",
    "    .to_frame()\\\n",
    "    .rename(columns={'Survived': 'Survived_norm'})\\\n",
    "    .sort_values(by=['Pclass', 'Survived'])\\\n",
    "    .reset_index()\\\n",
    "    .pipe((sns.catplot, 'data'), x='Pclass', y='Survived_norm', hue='Survived', kind='bar')"
   ]
  },
  {
   "cell_type": "markdown",
   "id": "6c1685a7",
   "metadata": {
    "papermill": {
     "duration": 0.035739,
     "end_time": "2022-03-17T04:38:56.198297",
     "exception": false,
     "start_time": "2022-03-17T04:38:56.162558",
     "status": "completed"
    },
    "tags": []
   },
   "source": [
    "Even after transforming the total number of passengers in each SES to a common scale, it's not surprising that it's still the case that 3rd class passengers survived the least out of the other classes, and that survival was less common the lower SES a passenger was. \n",
    "\n",
    "3rd class passengers included a wide range of nationalities, according to [this website](http://www.icyousee.org/titanic.html#nation). As mentioned earlier, many 3rd class passengers were immigrants hoping to make a new life in America. Like many of them on the Titanic, I was also an immigrant to America. I didn't understand English well. As the crew spoke mostly English, it's very possible that language barrier could've had a play in preventing 3rd class passengers from escaping safely. Titanic's lifeboats were also located at its very highest deck, which 1st class passengers were closest to. As a result, being a 3rd class immigrant passenger that did not understand English aboard the Titanic likely meant both a scary and extremely confusing ordeal."
   ]
  },
  {
   "cell_type": "code",
   "execution_count": 10,
   "id": "dd2021a5",
   "metadata": {
    "execution": {
     "iopub.execute_input": "2022-03-17T04:38:56.272591Z",
     "iopub.status.busy": "2022-03-17T04:38:56.271943Z",
     "iopub.status.idle": "2022-03-17T04:38:56.277586Z",
     "shell.execute_reply": "2022-03-17T04:38:56.278165Z",
     "shell.execute_reply.started": "2022-03-17T04:29:46.571923Z"
    },
    "papermill": {
     "duration": 0.044292,
     "end_time": "2022-03-17T04:38:56.278316",
     "exception": false,
     "start_time": "2022-03-17T04:38:56.234024",
     "status": "completed"
    },
    "tags": []
   },
   "outputs": [
    {
     "data": {
      "text/plain": [
       "B96 B98        4\n",
       "G6             4\n",
       "C23 C25 C27    4\n",
       "C22 C26        3\n",
       "F33            3\n",
       "              ..\n",
       "E34            1\n",
       "C7             1\n",
       "C54            1\n",
       "E36            1\n",
       "C148           1\n",
       "Name: Cabin, Length: 147, dtype: int64"
      ]
     },
     "execution_count": 10,
     "metadata": {},
     "output_type": "execute_result"
    }
   ],
   "source": [
    "train.Cabin.value_counts()"
   ]
  },
  {
   "cell_type": "markdown",
   "id": "74e31205",
   "metadata": {
    "papermill": {
     "duration": 0.035901,
     "end_time": "2022-03-17T04:38:56.350274",
     "exception": false,
     "start_time": "2022-03-17T04:38:56.314373",
     "status": "completed"
    },
    "tags": []
   },
   "source": [
    "Using the 'Cabin' column, I'll get to see if cabin location really did have an impact on whether a person survived or not. Another thing to consider is whether passengers were in or near their cabins when the Titanic started sinking. According to [this website](https://americanhistory.si.edu/collections/search/object/nmah_1416178), the Titanic hit the iceberg at 11:40 PM, and completely sank at 2:20 AM. Using that information, I'm going to conclude that passengers were in their cabins sleeping, or getting ready to sleep."
   ]
  },
  {
   "cell_type": "code",
   "execution_count": 11,
   "id": "92cf8f86",
   "metadata": {
    "execution": {
     "iopub.execute_input": "2022-03-17T04:38:56.414168Z",
     "iopub.status.busy": "2022-03-17T04:38:56.413579Z",
     "iopub.status.idle": "2022-03-17T04:38:56.419066Z",
     "shell.execute_reply": "2022-03-17T04:38:56.419517Z",
     "shell.execute_reply.started": "2022-03-17T04:29:46.583340Z"
    },
    "papermill": {
     "duration": 0.033147,
     "end_time": "2022-03-17T04:38:56.419657",
     "exception": false,
     "start_time": "2022-03-17T04:38:56.386510",
     "status": "completed"
    },
    "tags": []
   },
   "outputs": [
    {
     "data": {
      "text/plain": [
       "PassengerId      0\n",
       "Survived         0\n",
       "Pclass           0\n",
       "Name             0\n",
       "Sex              0\n",
       "Age            177\n",
       "SibSp            0\n",
       "Parch            0\n",
       "Ticket           0\n",
       "Fare             0\n",
       "Cabin          687\n",
       "Embarked         2\n",
       "dtype: int64"
      ]
     },
     "execution_count": 11,
     "metadata": {},
     "output_type": "execute_result"
    }
   ],
   "source": [
    "train.isna().sum()"
   ]
  },
  {
   "cell_type": "markdown",
   "id": "3ea09523",
   "metadata": {
    "papermill": {
     "duration": 0.023873,
     "end_time": "2022-03-17T04:38:56.468252",
     "exception": false,
     "start_time": "2022-03-17T04:38:56.444379",
     "status": "completed"
    },
    "tags": []
   },
   "source": [
    "Unfortunately, 77% of the 'Cabin' column is null, so it may not be the best feature to select when creating the model."
   ]
  },
  {
   "cell_type": "markdown",
   "id": "f35734a1",
   "metadata": {
    "papermill": {
     "duration": 0.024677,
     "end_time": "2022-03-17T04:38:56.517534",
     "exception": false,
     "start_time": "2022-03-17T04:38:56.492857",
     "status": "completed"
    },
    "tags": []
   },
   "source": [
    "I want to see if there were any 3rd class passengers that had a large fare to see if their chance of survival was higher. Similarly, I also want to see if there were any 1st class passengers that had a small fare, and did not survive. I'm doing this to determine whether it might be more accurate to use fare as an indicator for survival rather than socio-economic status."
   ]
  },
  {
   "cell_type": "code",
   "execution_count": 12,
   "id": "6841eca1",
   "metadata": {
    "execution": {
     "iopub.execute_input": "2022-03-17T04:38:56.596731Z",
     "iopub.status.busy": "2022-03-17T04:38:56.582554Z",
     "iopub.status.idle": "2022-03-17T04:38:56.599277Z",
     "shell.execute_reply": "2022-03-17T04:38:56.598846Z",
     "shell.execute_reply.started": "2022-03-17T04:29:46.604187Z"
    },
    "papermill": {
     "duration": 0.057037,
     "end_time": "2022-03-17T04:38:56.599408",
     "exception": false,
     "start_time": "2022-03-17T04:38:56.542371",
     "status": "completed"
    },
    "tags": []
   },
   "outputs": [
    {
     "data": {
      "text/html": [
       "<div>\n",
       "<style scoped>\n",
       "    .dataframe tbody tr th:only-of-type {\n",
       "        vertical-align: middle;\n",
       "    }\n",
       "\n",
       "    .dataframe tbody tr th {\n",
       "        vertical-align: top;\n",
       "    }\n",
       "\n",
       "    .dataframe thead th {\n",
       "        text-align: right;\n",
       "    }\n",
       "</style>\n",
       "<table border=\"1\" class=\"dataframe\">\n",
       "  <thead>\n",
       "    <tr style=\"text-align: right;\">\n",
       "      <th></th>\n",
       "      <th>Fare_1</th>\n",
       "      <th>Fare_2</th>\n",
       "      <th>Fare_3</th>\n",
       "    </tr>\n",
       "  </thead>\n",
       "  <tbody>\n",
       "    <tr>\n",
       "      <th>count</th>\n",
       "      <td>216.000000</td>\n",
       "      <td>184.000000</td>\n",
       "      <td>491.000000</td>\n",
       "    </tr>\n",
       "    <tr>\n",
       "      <th>mean</th>\n",
       "      <td>84.154687</td>\n",
       "      <td>20.662183</td>\n",
       "      <td>13.675550</td>\n",
       "    </tr>\n",
       "    <tr>\n",
       "      <th>std</th>\n",
       "      <td>78.380373</td>\n",
       "      <td>13.417399</td>\n",
       "      <td>11.778142</td>\n",
       "    </tr>\n",
       "    <tr>\n",
       "      <th>min</th>\n",
       "      <td>0.000000</td>\n",
       "      <td>0.000000</td>\n",
       "      <td>0.000000</td>\n",
       "    </tr>\n",
       "    <tr>\n",
       "      <th>25%</th>\n",
       "      <td>30.923950</td>\n",
       "      <td>13.000000</td>\n",
       "      <td>7.750000</td>\n",
       "    </tr>\n",
       "    <tr>\n",
       "      <th>50%</th>\n",
       "      <td>60.287500</td>\n",
       "      <td>14.250000</td>\n",
       "      <td>8.050000</td>\n",
       "    </tr>\n",
       "    <tr>\n",
       "      <th>75%</th>\n",
       "      <td>93.500000</td>\n",
       "      <td>26.000000</td>\n",
       "      <td>15.500000</td>\n",
       "    </tr>\n",
       "    <tr>\n",
       "      <th>max</th>\n",
       "      <td>512.329200</td>\n",
       "      <td>73.500000</td>\n",
       "      <td>69.550000</td>\n",
       "    </tr>\n",
       "  </tbody>\n",
       "</table>\n",
       "</div>"
      ],
      "text/plain": [
       "           Fare_1      Fare_2      Fare_3\n",
       "count  216.000000  184.000000  491.000000\n",
       "mean    84.154687   20.662183   13.675550\n",
       "std     78.380373   13.417399   11.778142\n",
       "min      0.000000    0.000000    0.000000\n",
       "25%     30.923950   13.000000    7.750000\n",
       "50%     60.287500   14.250000    8.050000\n",
       "75%     93.500000   26.000000   15.500000\n",
       "max    512.329200   73.500000   69.550000"
      ]
     },
     "execution_count": 12,
     "metadata": {},
     "output_type": "execute_result"
    }
   ],
   "source": [
    "pd.concat([train.loc[train.Pclass==1, ['Fare']].describe().rename(columns={'Fare': 'Fare_1'}),\n",
    "          train.loc[train.Pclass==2, ['Fare']].describe().rename(columns={'Fare': 'Fare_2'}),\n",
    "          train.loc[train.Pclass==3, ['Fare']].describe().rename(columns={'Fare': 'Fare_3'})],axis=1)"
   ]
  },
  {
   "cell_type": "code",
   "execution_count": 13,
   "id": "d19e2bc6",
   "metadata": {
    "execution": {
     "iopub.execute_input": "2022-03-17T04:38:56.652742Z",
     "iopub.status.busy": "2022-03-17T04:38:56.652091Z",
     "iopub.status.idle": "2022-03-17T04:38:56.949402Z",
     "shell.execute_reply": "2022-03-17T04:38:56.949846Z",
     "shell.execute_reply.started": "2022-03-17T04:29:55.260246Z"
    },
    "papermill": {
     "duration": 0.325165,
     "end_time": "2022-03-17T04:38:56.949980",
     "exception": false,
     "start_time": "2022-03-17T04:38:56.624815",
     "status": "completed"
    },
    "tags": []
   },
   "outputs": [
    {
     "data": {
      "text/plain": [
       "<seaborn.axisgrid.FacetGrid at 0x7f08a130b1d0>"
      ]
     },
     "execution_count": 13,
     "metadata": {},
     "output_type": "execute_result"
    },
    {
     "data": {
      "image/png": "[encoded data removed]",
      "text/plain": [
       "<Figure size 735.309x360 with 1 Axes>"
      ]
     },
     "metadata": {
      "needs_background": "light"
     },
     "output_type": "display_data"
    }
   ],
   "source": [
    "train.loc[train.Pclass==3, ['Fare', 'Survived']]\\\n",
    "    .groupby(pd.qcut(x=train.loc[train.Pclass==3, 'Fare'], \n",
    "                    q=5), \n",
    "             observed=True)['Survived']\\\n",
    "    .value_counts()\\\n",
    "    .reset_index(level=1, name=\"Fate_count\")\\\n",
    "    .reset_index()\\\n",
    "    .rename(columns={'Fare': 'Fare (in dollars)'})\\\n",
    "    .pipe((sns.catplot, 'data'), x='Fare (in dollars)', y='Fate_count', hue='Survived', kind='bar', aspect=15.7/8.27)"
   ]
  },
  {
   "cell_type": "code",
   "execution_count": 14,
   "id": "0761f323",
   "metadata": {
    "execution": {
     "iopub.execute_input": "2022-03-17T04:38:57.004293Z",
     "iopub.status.busy": "2022-03-17T04:38:57.003802Z",
     "iopub.status.idle": "2022-03-17T04:38:57.297437Z",
     "shell.execute_reply": "2022-03-17T04:38:57.297912Z",
     "shell.execute_reply.started": "2022-03-17T04:36:20.048955Z"
    },
    "papermill": {
     "duration": 0.32229,
     "end_time": "2022-03-17T04:38:57.298046",
     "exception": false,
     "start_time": "2022-03-17T04:38:56.975756",
     "status": "completed"
    },
    "tags": []
   },
   "outputs": [
    {
     "data": {
      "text/plain": [
       "<seaborn.axisgrid.FacetGrid at 0x7f08a103b650>"
      ]
     },
     "execution_count": 14,
     "metadata": {},
     "output_type": "execute_result"
    },
    {
     "data": {
      "image/png": "[encoded data removed]",
      "text/plain": [
       "<Figure size 648.247x360 with 1 Axes>"
      ]
     },
     "metadata": {
      "needs_background": "light"
     },
     "output_type": "display_data"
    }
   ],
   "source": [
    "train.loc[train.Pclass==1, ['Fare', 'Survived']]\\\n",
    "    .groupby(pd.qcut(x=train.loc[train.Pclass==1, 'Fare'], \n",
    "                    q=5), \n",
    "             observed=True)['Survived']\\\n",
    "    .value_counts()\\\n",
    "    .reset_index(level=1, name=\"Fate_count\")\\\n",
    "    .reset_index()\\\n",
    "    .rename(columns={'Fare': 'Fare (in dollars)'})\\\n",
    "    .pipe((sns.catplot, 'data'), x='Fare (in dollars)', y='Fate_count', hue='Survived', kind='bar', aspect=13.7/8.27)"
   ]
  },
  {
   "cell_type": "code",
   "execution_count": 15,
   "id": "a3bd186d",
   "metadata": {
    "execution": {
     "iopub.execute_input": "2022-03-17T04:38:57.353797Z",
     "iopub.status.busy": "2022-03-17T04:38:57.353310Z",
     "iopub.status.idle": "2022-03-17T04:38:57.628057Z",
     "shell.execute_reply": "2022-03-17T04:38:57.628487Z",
     "shell.execute_reply.started": "2022-03-17T04:36:22.571196Z"
    },
    "papermill": {
     "duration": 0.303798,
     "end_time": "2022-03-17T04:38:57.628623",
     "exception": false,
     "start_time": "2022-03-17T04:38:57.324825",
     "status": "completed"
    },
    "tags": []
   },
   "outputs": [
    {
     "data": {
      "text/plain": [
       "<seaborn.axisgrid.FacetGrid at 0x7f08a0f7a290>"
      ]
     },
     "execution_count": 15,
     "metadata": {},
     "output_type": "execute_result"
    },
    {
     "data": {
      "image/png": "[encoded data removed]",
      "text/plain": [
       "<Figure size 648.247x360 with 1 Axes>"
      ]
     },
     "metadata": {
      "needs_background": "light"
     },
     "output_type": "display_data"
    }
   ],
   "source": [
    "train.loc[train.Pclass==2, ['Fare', 'Survived']]\\\n",
    "    .groupby(pd.qcut(x=train.loc[train.Pclass==2, 'Fare'], \n",
    "                    q=5), \n",
    "             observed=True)['Survived']\\\n",
    "    .value_counts()\\\n",
    "    .reset_index(level=1, name=\"Fate_count\")\\\n",
    "    .reset_index()\\\n",
    "    .rename(columns={'Fare': 'Fare (in dollars)'})\\\n",
    "    .pipe((sns.catplot, 'data'), x='Fare (in dollars)', y='Fate_count', hue='Survived', kind='bar', aspect=13.7/8.27)"
   ]
  }
 ],
 "metadata": {
  "kernelspec": {
   "display_name": "Python 3",
   "language": "python",
   "name": "python3"
  },
  "language_info": {
   "codemirror_mode": {
    "name": "ipython",
    "version": 3
   },
   "file_extension": ".py",
   "mimetype": "text/x-python",
   "name": "python",
   "nbconvert_exporter": "python",
   "pygments_lexer": "ipython3",
   "version": "3.7.12"
  },
  "papermill": {
   "default_parameters": {},
   "duration": 15.378042,
   "end_time": "2022-03-17T04:38:58.466592",
   "environment_variables": {},
   "exception": null,
   "input_path": "__notebook__.ipynb",
   "output_path": "__notebook__.ipynb",
   "parameters": {},
   "start_time": "2022-03-17T04:38:43.088550",
   "version": "2.3.3"
  }
 },
 "nbformat": 4,
 "nbformat_minor": 5
}
